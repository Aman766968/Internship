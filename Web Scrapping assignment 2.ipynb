{
 "cells": [
  {
   "cell_type": "markdown",
   "id": "4155447b",
   "metadata": {},
   "source": [
    "# Q1: Write a python program to scrape data for “Data Analyst” Job position in “Bangalore” location. You have to scrape the job-title, job-location, company_name, experience_required. "
   ]
  },
  {
   "cell_type": "markdown",
   "id": "7b9e2c23",
   "metadata": {},
   "source": [
    "You have to scrape first 10\n",
    "jobs data.\n",
    "This task will be done in following steps:\n",
    "1. First get the webpage https://www.naukri.com/\n",
    "2. Enter “Data Analyst” in “Skill, Designations, Companies” field and enter “Bangalore” in “enter the\n",
    "location” field.\n",
    "3. Then click the search button.\n",
    "4. Then scrape the data for the first 10 jobs results you get.\n",
    "5. Finally create a dataframe of the scraped data.\n",
    "Note: All of the above steps have to be done in code. No step is to be done manually."
   ]
  },
  {
   "cell_type": "code",
   "execution_count": 1,
   "id": "1764b111",
   "metadata": {},
   "outputs": [
    {
     "name": "stdout",
     "output_type": "stream",
     "text": [
      "Requirement already satisfied: selenium in c:\\programdata\\anaconda3\\lib\\site-packages (4.1.3)\n",
      "Requirement already satisfied: urllib3[secure,socks]~=1.26 in c:\\programdata\\anaconda3\\lib\\site-packages (from selenium) (1.26.7)\n",
      "Requirement already satisfied: trio-websocket~=0.9 in c:\\programdata\\anaconda3\\lib\\site-packages (from selenium) (0.9.2)\n",
      "Requirement already satisfied: trio~=0.17 in c:\\programdata\\anaconda3\\lib\\site-packages (from selenium) (0.20.0)\n",
      "Requirement already satisfied: async-generator>=1.9 in c:\\programdata\\anaconda3\\lib\\site-packages (from trio~=0.17->selenium) (1.10)\n",
      "Requirement already satisfied: cffi>=1.14 in c:\\programdata\\anaconda3\\lib\\site-packages (from trio~=0.17->selenium) (1.14.6)\n",
      "Requirement already satisfied: attrs>=19.2.0 in c:\\programdata\\anaconda3\\lib\\site-packages (from trio~=0.17->selenium) (21.2.0)\n",
      "Requirement already satisfied: idna in c:\\programdata\\anaconda3\\lib\\site-packages (from trio~=0.17->selenium) (3.2)\n",
      "Requirement already satisfied: outcome in c:\\programdata\\anaconda3\\lib\\site-packages (from trio~=0.17->selenium) (1.1.0)\n",
      "Requirement already satisfied: sortedcontainers in c:\\programdata\\anaconda3\\lib\\site-packages (from trio~=0.17->selenium) (2.4.0)\n",
      "Requirement already satisfied: sniffio in c:\\programdata\\anaconda3\\lib\\site-packages (from trio~=0.17->selenium) (1.2.0)\n",
      "Requirement already satisfied: pycparser in c:\\programdata\\anaconda3\\lib\\site-packages (from cffi>=1.14->trio~=0.17->selenium) (2.20)\n",
      "Requirement already satisfied: wsproto>=0.14 in c:\\programdata\\anaconda3\\lib\\site-packages (from trio-websocket~=0.9->selenium) (1.1.0)\n",
      "Requirement already satisfied: pyOpenSSL>=0.14 in c:\\programdata\\anaconda3\\lib\\site-packages (from urllib3[secure,socks]~=1.26->selenium) (21.0.0)\n",
      "Requirement already satisfied: cryptography>=1.3.4 in c:\\programdata\\anaconda3\\lib\\site-packages (from urllib3[secure,socks]~=1.26->selenium) (3.4.8)\n",
      "Requirement already satisfied: certifi in c:\\programdata\\anaconda3\\lib\\site-packages (from urllib3[secure,socks]~=1.26->selenium) (2021.10.8)\n",
      "Requirement already satisfied: PySocks!=1.5.7,<2.0,>=1.5.6 in c:\\programdata\\anaconda3\\lib\\site-packages (from urllib3[secure,socks]~=1.26->selenium) (1.7.1)\n",
      "Requirement already satisfied: six>=1.5.2 in c:\\programdata\\anaconda3\\lib\\site-packages (from pyOpenSSL>=0.14->urllib3[secure,socks]~=1.26->selenium) (1.16.0)\n",
      "Requirement already satisfied: h11<1,>=0.9.0 in c:\\programdata\\anaconda3\\lib\\site-packages (from wsproto>=0.14->trio-websocket~=0.9->selenium) (0.13.0)\n"
     ]
    }
   ],
   "source": [
    "! pip install selenium"
   ]
  },
  {
   "cell_type": "code",
   "execution_count": 2,
   "id": "89114460",
   "metadata": {},
   "outputs": [],
   "source": [
    "#Lets now import all required libraries\n",
    "import selenium\n",
    "import pandas as pd\n",
    "from selenium import webdriver\n",
    "import warnings\n",
    "warnings.filterwarnings(\"ignore\")\n",
    "import time"
   ]
  },
  {
   "cell_type": "code",
   "execution_count": 3,
   "id": "ef73e543",
   "metadata": {},
   "outputs": [],
   "source": [
    "#Lets first connect to the web driver\n",
    "driver=webdriver.Chrome(r\"C:\\Users\\lenovo\\chromedriver.exe\")"
   ]
  },
  {
   "cell_type": "code",
   "execution_count": 18,
   "id": "24cd4ed8",
   "metadata": {},
   "outputs": [],
   "source": [
    "driver=webdriver.Chrome(\"chromedriver.exe\")\n",
    "time.sleep(2)"
   ]
  },
  {
   "cell_type": "code",
   "execution_count": 19,
   "id": "816ef024",
   "metadata": {},
   "outputs": [],
   "source": [
    "#Opening up naukri.com website on automated chrome window\n",
    "driver.get('https://www.naukri.com/')"
   ]
  },
  {
   "cell_type": "code",
   "execution_count": 20,
   "id": "0bb90c64",
   "metadata": {},
   "outputs": [],
   "source": [
    "#Find elements for job search bar\n",
    "search_field_designation=driver.find_element_by_xpath(\"/html/body/div/div[2]/div[3]/div/div/div[1]/div/div/div/input\")   #Job search bar\n",
    "search_field_designation.send_keys(\"Data Analyst\")"
   ]
  },
  {
   "cell_type": "code",
   "execution_count": 21,
   "id": "90422c0a",
   "metadata": {},
   "outputs": [],
   "source": [
    "#Entering the location using Xpath\n",
    "search_field_location=driver.find_element_by_xpath(\"/html/body/div/div[2]/div[3]/div/div/div[3]/div/div/div/input\")   #Job search bar\n",
    "search_field_location.send_keys(\"Bangalore\")"
   ]
  },
  {
   "cell_type": "code",
   "execution_count": 22,
   "id": "f731f633",
   "metadata": {},
   "outputs": [],
   "source": [
    "#Clicking on the search button\n",
    "search_button=driver.find_element_by_xpath(\"/html/body/div/div[2]/div[3]/div/div/div[6]\")\n",
    "search_button.click()"
   ]
  },
  {
   "cell_type": "code",
   "execution_count": 23,
   "id": "c7270755",
   "metadata": {},
   "outputs": [],
   "source": [
    "#Declaring the variables\n",
    "job_titles=[]\n",
    "company_name=[]\n",
    "location_list=[]\n",
    "experience_list=[]\n",
    "#Extract all the tags having the job titles\n",
    "titles_tags=driver.find_elements_by_xpath(\"//a[@class='title fw500 ellipsis']\")\n",
    "for i in titles_tags:\n",
    "    job_titles.append(i.text)"
   ]
  },
  {
   "cell_type": "code",
   "execution_count": 24,
   "id": "95e083e5",
   "metadata": {},
   "outputs": [],
   "source": [
    "#Extracting the data of company Name\n",
    "company_tags=driver.find_elements_by_xpath('//a[@class=\"subTitle ellipsis fleft\"]')\n",
    "for i in company_tags:\n",
    "    company_name.append(i.text)"
   ]
  },
  {
   "cell_type": "code",
   "execution_count": 25,
   "id": "4d3e46f9",
   "metadata": {},
   "outputs": [
    {
     "data": {
      "text/plain": [
       "'(WFH during Covid)'"
      ]
     },
     "execution_count": 25,
     "metadata": {},
     "output_type": "execute_result"
    }
   ],
   "source": [
    "#Extracting the details of locations\n",
    "location_tags=driver.find_elements_by_xpath('//li[@class=\"fleft grey-text br2 placeHolderLi location\"]/span')\n",
    "for i in location_tags:\n",
    "   # title=i.text\n",
    "    location_list.append(i.text)\n",
    "location_list.pop(3)\n",
    "location_list.pop(8)"
   ]
  },
  {
   "cell_type": "code",
   "execution_count": 26,
   "id": "909b16ed",
   "metadata": {},
   "outputs": [],
   "source": [
    "#Extracting the details of Experience\n",
    "experience_tags=driver.find_elements_by_xpath('//li[@class=\"fleft grey-text br2 placeHolderLi experience\"]/span')\n",
    "for i in experience_tags:\n",
    "   # title=i.text\n",
    "    experience_list.append(i.text)"
   ]
  },
  {
   "cell_type": "code",
   "execution_count": 27,
   "id": "4329556f",
   "metadata": {},
   "outputs": [
    {
     "data": {
      "text/html": [
       "<div>\n",
       "<style scoped>\n",
       "    .dataframe tbody tr th:only-of-type {\n",
       "        vertical-align: middle;\n",
       "    }\n",
       "\n",
       "    .dataframe tbody tr th {\n",
       "        vertical-align: top;\n",
       "    }\n",
       "\n",
       "    .dataframe thead th {\n",
       "        text-align: right;\n",
       "    }\n",
       "</style>\n",
       "<table border=\"1\" class=\"dataframe\">\n",
       "  <thead>\n",
       "    <tr style=\"text-align: right;\">\n",
       "      <th></th>\n",
       "      <th>Title</th>\n",
       "      <th>Name</th>\n",
       "      <th>Location</th>\n",
       "      <th>Experience</th>\n",
       "    </tr>\n",
       "  </thead>\n",
       "  <tbody>\n",
       "    <tr>\n",
       "      <th>0</th>\n",
       "      <td>Senior Business Analyst - Data Sciences and Ad...</td>\n",
       "      <td>Vmware</td>\n",
       "      <td>Bangalore/Bengaluru</td>\n",
       "      <td>3-7 Yrs</td>\n",
       "    </tr>\n",
       "    <tr>\n",
       "      <th>1</th>\n",
       "      <td>Sr Data Analyst II</td>\n",
       "      <td>IHS Markit</td>\n",
       "      <td>Gurgaon/Gurugram, Bangalore/Bengaluru</td>\n",
       "      <td>3-6 Yrs</td>\n",
       "    </tr>\n",
       "    <tr>\n",
       "      <th>2</th>\n",
       "      <td>Business and Data Analyst</td>\n",
       "      <td>CAREERDOST ENTERPRISE</td>\n",
       "      <td>Bangalore/Bengaluru</td>\n",
       "      <td>0-5 Yrs</td>\n",
       "    </tr>\n",
       "    <tr>\n",
       "      <th>3</th>\n",
       "      <td>Senior Data Analyst</td>\n",
       "      <td>Capco</td>\n",
       "      <td>Pune, Gurgaon/Gurugram, Chennai, Bangalore/Ben...</td>\n",
       "      <td>7-12 Yrs</td>\n",
       "    </tr>\n",
       "    <tr>\n",
       "      <th>4</th>\n",
       "      <td>Senior Data Analyst</td>\n",
       "      <td>Gsn Games India</td>\n",
       "      <td>Bangalore/Bengaluru</td>\n",
       "      <td>3-7 Yrs</td>\n",
       "    </tr>\n",
       "    <tr>\n",
       "      <th>5</th>\n",
       "      <td>Jr . Data Analyst</td>\n",
       "      <td>Armorblox</td>\n",
       "      <td>Bangalore/Bengaluru</td>\n",
       "      <td>0-2 Yrs</td>\n",
       "    </tr>\n",
       "    <tr>\n",
       "      <th>6</th>\n",
       "      <td>Data Analyst</td>\n",
       "      <td>G S E-COMMERCE PVT LTD</td>\n",
       "      <td>Bangalore/Bengaluru(Jayanagar)</td>\n",
       "      <td>4-7 Yrs</td>\n",
       "    </tr>\n",
       "    <tr>\n",
       "      <th>7</th>\n",
       "      <td>SAS Analyst / data Analyst / Business analyst ...</td>\n",
       "      <td>Leading US MNC into analytics</td>\n",
       "      <td>Bangalore/Bengaluru, Delhi / NCR, Mumbai (All ...</td>\n",
       "      <td>2-7 Yrs</td>\n",
       "    </tr>\n",
       "    <tr>\n",
       "      <th>8</th>\n",
       "      <td>Data Analyst II</td>\n",
       "      <td>Cerner</td>\n",
       "      <td>Bangalore/Bengaluru</td>\n",
       "      <td>6-10 Yrs</td>\n",
       "    </tr>\n",
       "    <tr>\n",
       "      <th>9</th>\n",
       "      <td>Data Analyst - Python / SQL</td>\n",
       "      <td>Myntra</td>\n",
       "      <td>Bangalore/Bengaluru</td>\n",
       "      <td>1-4 Yrs</td>\n",
       "    </tr>\n",
       "  </tbody>\n",
       "</table>\n",
       "</div>"
      ],
      "text/plain": [
       "                                               Title  \\\n",
       "0  Senior Business Analyst - Data Sciences and Ad...   \n",
       "1                                 Sr Data Analyst II   \n",
       "2                          Business and Data Analyst   \n",
       "3                                Senior Data Analyst   \n",
       "4                                Senior Data Analyst   \n",
       "5                                  Jr . Data Analyst   \n",
       "6                                       Data Analyst   \n",
       "7  SAS Analyst / data Analyst / Business analyst ...   \n",
       "8                                    Data Analyst II   \n",
       "9                        Data Analyst - Python / SQL   \n",
       "\n",
       "                            Name  \\\n",
       "0                         Vmware   \n",
       "1                     IHS Markit   \n",
       "2          CAREERDOST ENTERPRISE   \n",
       "3                          Capco   \n",
       "4                Gsn Games India   \n",
       "5                      Armorblox   \n",
       "6         G S E-COMMERCE PVT LTD   \n",
       "7  Leading US MNC into analytics   \n",
       "8                         Cerner   \n",
       "9                         Myntra   \n",
       "\n",
       "                                            Location Experience  \n",
       "0                                Bangalore/Bengaluru    3-7 Yrs  \n",
       "1              Gurgaon/Gurugram, Bangalore/Bengaluru    3-6 Yrs  \n",
       "2                                Bangalore/Bengaluru    0-5 Yrs  \n",
       "3  Pune, Gurgaon/Gurugram, Chennai, Bangalore/Ben...   7-12 Yrs  \n",
       "4                                Bangalore/Bengaluru    3-7 Yrs  \n",
       "5                                Bangalore/Bengaluru    0-2 Yrs  \n",
       "6                     Bangalore/Bengaluru(Jayanagar)    4-7 Yrs  \n",
       "7  Bangalore/Bengaluru, Delhi / NCR, Mumbai (All ...    2-7 Yrs  \n",
       "8                                Bangalore/Bengaluru   6-10 Yrs  \n",
       "9                                Bangalore/Bengaluru    1-4 Yrs  "
      ]
     },
     "execution_count": 27,
     "metadata": {},
     "output_type": "execute_result"
    }
   ],
   "source": [
    "#Creating the data frame.\n",
    "jobs=pd.DataFrame({'Title':job_titles[:10],'Name':company_name[:10],'Location':location_list[:10],'Experience':experience_list[:10]})\n",
    "jobs"
   ]
  },
  {
   "cell_type": "code",
   "execution_count": 28,
   "id": "3ca5f6bc",
   "metadata": {},
   "outputs": [],
   "source": [
    "#Closing the automated chrome window\n",
    "driver.close()"
   ]
  },
  {
   "cell_type": "markdown",
   "id": "2f5774c6",
   "metadata": {},
   "source": [
    "# Q2: Write a python program to scrape data for “Data Scientist” Job position in “Bangalore” location. You have to scrape the job-title, job-location, company_name. You have to scrape first 10 jobs data.\n"
   ]
  },
  {
   "cell_type": "markdown",
   "id": "c53ac0e4",
   "metadata": {},
   "source": [
    "This task will be done in following steps:\n",
    "1. First get the webpage https://www.naukri.com/\n",
    "2. Enter “Data Scientist” in “Skill, Designations, Companies” field and enter “Bangalore” in “enter the\n",
    "location” field.\n",
    "3. Then click the search button.\n",
    "4. Then scrape the data for the first 10 jobs results you get.\n",
    "5. Finally create a dataframe of the scraped data.\n",
    "Note: All of the above steps have to be done in code. No step is to be done manually."
   ]
  },
  {
   "cell_type": "code",
   "execution_count": 29,
   "id": "05bb8473",
   "metadata": {},
   "outputs": [],
   "source": [
    "driver=webdriver.Chrome(\"chromedriver.exe\")\n",
    "time.sleep(2)"
   ]
  },
  {
   "cell_type": "code",
   "execution_count": 30,
   "id": "ec7ee457",
   "metadata": {},
   "outputs": [],
   "source": [
    "#Opening up naukri.com website on automated chrome window\n",
    "driver.get('https://www.naukri.com/')"
   ]
  },
  {
   "cell_type": "code",
   "execution_count": 31,
   "id": "a995dcfe",
   "metadata": {},
   "outputs": [],
   "source": [
    "#Find elements for job search bar\n",
    "search_field_designation=driver.find_element_by_xpath(\"/html/body/div/div[2]/div[3]/div/div/div[1]/div/div/div/input\")   #Job search bar\n",
    "search_field_designation.send_keys(\"Data Scientist\")"
   ]
  },
  {
   "cell_type": "code",
   "execution_count": 32,
   "id": "7999fc14",
   "metadata": {},
   "outputs": [],
   "source": [
    "#Entering the location using Xpath\n",
    "search_field_location=driver.find_element_by_xpath(\"/html/body/div/div[2]/div[3]/div/div/div[3]/div/div/div/input\")   #Job search bar\n",
    "search_field_location.send_keys(\"Bangalore\")"
   ]
  },
  {
   "cell_type": "code",
   "execution_count": 33,
   "id": "484379ea",
   "metadata": {},
   "outputs": [],
   "source": [
    "#Clicking on the search button\n",
    "search_button=driver.find_element_by_xpath(\"/html/body/div/div[2]/div[3]/div/div/div[6]\")\n",
    "search_button.click()"
   ]
  },
  {
   "cell_type": "code",
   "execution_count": 34,
   "id": "9782e294",
   "metadata": {},
   "outputs": [],
   "source": [
    "#Declaring the variables\n",
    "job_titles=[]\n",
    "company_name=[]\n",
    "location_list=[]\n",
    "experience_list=[]\n",
    "#Extract all the tags having the job titles\n",
    "titles_tags=driver.find_elements_by_xpath(\"//a[@class='title fw500 ellipsis']\")\n",
    "for i in titles_tags:\n",
    "    job_titles.append(i.text)"
   ]
  },
  {
   "cell_type": "code",
   "execution_count": 35,
   "id": "9cab41d3",
   "metadata": {},
   "outputs": [],
   "source": [
    "#Extracting the company names\n",
    "company_tags=driver.find_elements_by_xpath('//a[@class=\"subTitle ellipsis fleft\"]')\n",
    "for i in company_tags:\n",
    "    company_name.append(i.text)"
   ]
  },
  {
   "cell_type": "code",
   "execution_count": 36,
   "id": "1ca87fe1",
   "metadata": {},
   "outputs": [
    {
     "data": {
      "text/plain": [
       "'(WFH during Covid)'"
      ]
     },
     "execution_count": 36,
     "metadata": {},
     "output_type": "execute_result"
    }
   ],
   "source": [
    "#Extracting the locations\n",
    "location_tags=driver.find_elements_by_xpath('//li[@class=\"fleft grey-text br2 placeHolderLi location\"]/span')\n",
    "for i in location_tags:\n",
    "   # title=i.text\n",
    "    location_list.append(i.text)\n",
    "location_list.pop(3)"
   ]
  },
  {
   "cell_type": "code",
   "execution_count": 37,
   "id": "6e53025f",
   "metadata": {},
   "outputs": [
    {
     "data": {
      "text/html": [
       "<div>\n",
       "<style scoped>\n",
       "    .dataframe tbody tr th:only-of-type {\n",
       "        vertical-align: middle;\n",
       "    }\n",
       "\n",
       "    .dataframe tbody tr th {\n",
       "        vertical-align: top;\n",
       "    }\n",
       "\n",
       "    .dataframe thead th {\n",
       "        text-align: right;\n",
       "    }\n",
       "</style>\n",
       "<table border=\"1\" class=\"dataframe\">\n",
       "  <thead>\n",
       "    <tr style=\"text-align: right;\">\n",
       "      <th></th>\n",
       "      <th>Title</th>\n",
       "      <th>Name</th>\n",
       "      <th>Location</th>\n",
       "    </tr>\n",
       "  </thead>\n",
       "  <tbody>\n",
       "    <tr>\n",
       "      <th>0</th>\n",
       "      <td>Data Scientist: Artificial Intelligence</td>\n",
       "      <td>IBM</td>\n",
       "      <td>Bangalore/Bengaluru</td>\n",
       "    </tr>\n",
       "    <tr>\n",
       "      <th>1</th>\n",
       "      <td>Staff Data Scientist</td>\n",
       "      <td>Walmart</td>\n",
       "      <td>Bangalore/Bengaluru</td>\n",
       "    </tr>\n",
       "    <tr>\n",
       "      <th>2</th>\n",
       "      <td>Lead Data Scientist</td>\n",
       "      <td>TransOrg Solutions Services (P) Ltd.</td>\n",
       "      <td>Bangalore/Bengaluru, Delhi / NCR, Mumbai (All ...</td>\n",
       "    </tr>\n",
       "    <tr>\n",
       "      <th>3</th>\n",
       "      <td>Senior Data Scientist</td>\n",
       "      <td>Walmart</td>\n",
       "      <td>Bangalore/Bengaluru</td>\n",
       "    </tr>\n",
       "    <tr>\n",
       "      <th>4</th>\n",
       "      <td>Cognitive/AI Senior Data Scientist</td>\n",
       "      <td>IBM</td>\n",
       "      <td>Bangalore/Bengaluru</td>\n",
       "    </tr>\n",
       "    <tr>\n",
       "      <th>5</th>\n",
       "      <td>Lead - Data Scientist</td>\n",
       "      <td>Applied Materials</td>\n",
       "      <td>Bangalore/Bengaluru</td>\n",
       "    </tr>\n",
       "    <tr>\n",
       "      <th>6</th>\n",
       "      <td>Data Scientist</td>\n",
       "      <td>Applied Materials</td>\n",
       "      <td>Bangalore/Bengaluru</td>\n",
       "    </tr>\n",
       "    <tr>\n",
       "      <th>7</th>\n",
       "      <td>Senior Associate - Data Scientist</td>\n",
       "      <td>Affine</td>\n",
       "      <td>Remote</td>\n",
       "    </tr>\n",
       "    <tr>\n",
       "      <th>8</th>\n",
       "      <td>Rolls-Royce Data Labs : Data Scientist</td>\n",
       "      <td>Rolls Royce</td>\n",
       "      <td>Bangalore/Bengaluru</td>\n",
       "    </tr>\n",
       "    <tr>\n",
       "      <th>9</th>\n",
       "      <td>Data Scientist</td>\n",
       "      <td>Applied Materials</td>\n",
       "      <td>Bangalore/Bengaluru</td>\n",
       "    </tr>\n",
       "  </tbody>\n",
       "</table>\n",
       "</div>"
      ],
      "text/plain": [
       "                                     Title  \\\n",
       "0  Data Scientist: Artificial Intelligence   \n",
       "1                     Staff Data Scientist   \n",
       "2                      Lead Data Scientist   \n",
       "3                    Senior Data Scientist   \n",
       "4       Cognitive/AI Senior Data Scientist   \n",
       "5                    Lead - Data Scientist   \n",
       "6                           Data Scientist   \n",
       "7        Senior Associate - Data Scientist   \n",
       "8   Rolls-Royce Data Labs : Data Scientist   \n",
       "9                           Data Scientist   \n",
       "\n",
       "                                   Name  \\\n",
       "0                                   IBM   \n",
       "1                               Walmart   \n",
       "2  TransOrg Solutions Services (P) Ltd.   \n",
       "3                               Walmart   \n",
       "4                                   IBM   \n",
       "5                     Applied Materials   \n",
       "6                     Applied Materials   \n",
       "7                                Affine   \n",
       "8                           Rolls Royce   \n",
       "9                     Applied Materials   \n",
       "\n",
       "                                            Location  \n",
       "0                                Bangalore/Bengaluru  \n",
       "1                                Bangalore/Bengaluru  \n",
       "2  Bangalore/Bengaluru, Delhi / NCR, Mumbai (All ...  \n",
       "3                                Bangalore/Bengaluru  \n",
       "4                                Bangalore/Bengaluru  \n",
       "5                                Bangalore/Bengaluru  \n",
       "6                                Bangalore/Bengaluru  \n",
       "7                                             Remote  \n",
       "8                                Bangalore/Bengaluru  \n",
       "9                                Bangalore/Bengaluru  "
      ]
     },
     "execution_count": 37,
     "metadata": {},
     "output_type": "execute_result"
    }
   ],
   "source": [
    "#Creating the data frame\n",
    "jobs=pd.DataFrame({'Title':job_titles[:10],'Name':company_name[:10],'Location':location_list[:10]})\n",
    "jobs"
   ]
  },
  {
   "cell_type": "code",
   "execution_count": 38,
   "id": "4d23861c",
   "metadata": {},
   "outputs": [],
   "source": [
    "#To close the automated chrome window\n",
    "driver.close()"
   ]
  },
  {
   "cell_type": "code",
   "execution_count": null,
   "id": "c26ff341",
   "metadata": {},
   "outputs": [],
   "source": []
  },
  {
   "cell_type": "markdown",
   "id": "6542c37c",
   "metadata": {},
   "source": [
    "# Q3: In this question you have to scrape data using the filters available on the webpage as shown below:\n",
    "        You have to use the location and salary filter.\n",
    "You have to scrape data for “Data Scientist” designation for first 10 job results.\n",
    "You have to scrape the job-title, job-location, company name, experience required.\n",
    "The location filter to be used is “Delhi/NCR”. The salary filter to be used is “3-6” lakhs"
   ]
  },
  {
   "cell_type": "markdown",
   "id": "5797bb2a",
   "metadata": {},
   "source": [
    "The task will be done as shown in the below steps:\n",
    "1. first get the webpage https://www.naukri.com/\n",
    "2. Enter “Data Scientist” in “Skill, Designations, and Companies” field.\n",
    "3. Then click the search button.\n",
    "4. Then apply the location filter and salary filter by checking the respective boxes\n",
    "5. Then scrape the data for the first 10 jobs results you get.\n",
    "6. Finally create a dataframe of the scraped data.\n",
    "Note: All of the above steps have to be done in code. No step is to be done manually"
   ]
  },
  {
   "cell_type": "code",
   "execution_count": 39,
   "id": "96000bc6",
   "metadata": {},
   "outputs": [],
   "source": [
    "driver=webdriver.Chrome(\"chromedriver.exe\")\n",
    "time.sleep(2)"
   ]
  },
  {
   "cell_type": "code",
   "execution_count": 40,
   "id": "720e1dc8",
   "metadata": {},
   "outputs": [],
   "source": [
    "#Opening up naukri.com website on automated chrome window\n",
    "driver.get('https://www.naukri.com/')"
   ]
  },
  {
   "cell_type": "code",
   "execution_count": 41,
   "id": "4185d68d",
   "metadata": {},
   "outputs": [],
   "source": [
    "#Find elements for job search bar\n",
    "search_field_designation=driver.find_element_by_xpath(\"/html/body/div/div[2]/div[3]/div/div/div[1]/div/div/div/input\")   #Job search bar\n",
    "search_field_designation.send_keys(\"Data Scientist\")"
   ]
  },
  {
   "cell_type": "code",
   "execution_count": 42,
   "id": "15458e30",
   "metadata": {},
   "outputs": [],
   "source": [
    "#Entering the location using Xpath\n",
    "search_field_location=driver.find_element_by_xpath(\"/html/body/div/div[2]/div[3]/div/div/div[3]/div/div/div/input\")   #Job search bar\n",
    "search_field_location.send_keys(\"Delhi/NCR\")"
   ]
  },
  {
   "cell_type": "code",
   "execution_count": 43,
   "id": "c0e2277b",
   "metadata": {},
   "outputs": [],
   "source": [
    "#Clicking on the search button\n",
    "search_button=driver.find_element_by_xpath(\"/html/body/div/div[2]/div[3]/div/div/div[6]\")\n",
    "search_button.click()"
   ]
  },
  {
   "cell_type": "code",
   "execution_count": 45,
   "id": "b7fbcd24",
   "metadata": {},
   "outputs": [],
   "source": [
    "#Clicking on the Salary filter button\n",
    "salary_button=driver.find_element_by_xpath(\"/html/body/div[1]/div[3]/div[2]/section[1]/div[2]/div[4]/div[2]/div[2]\")\n",
    "salary_button.click()\n"
   ]
  },
  {
   "cell_type": "code",
   "execution_count": 46,
   "id": "c453c150",
   "metadata": {},
   "outputs": [],
   "source": [
    "#Clicking on the Salary filter button\n",
    "location_button=driver.find_element_by_xpath(\"/html/body/div[1]/div[3]/div[2]/section[1]/div[2]/div[12]/div[2]/div[2]\")\n",
    "location_button.click()\n"
   ]
  },
  {
   "cell_type": "code",
   "execution_count": 47,
   "id": "a81b0d14",
   "metadata": {},
   "outputs": [],
   "source": [
    "#Declaring the variables\n",
    "job_titles=[]\n",
    "company_name=[]\n",
    "location_list=[]\n",
    "experience_list=[]\n",
    "#Extract all the tags having the job titles\n",
    "titles_tags=driver.find_elements_by_xpath(\"//a[@class='title fw500 ellipsis']\")\n",
    "for i in titles_tags:\n",
    "    job_titles.append(i.text)"
   ]
  },
  {
   "cell_type": "code",
   "execution_count": 48,
   "id": "7d24e18a",
   "metadata": {},
   "outputs": [],
   "source": [
    "#Extracting the company names\n",
    "company_tags=driver.find_elements_by_xpath('//a[@class=\"subTitle ellipsis fleft\"]')\n",
    "for i in company_tags:\n",
    "    company_name.append(i.text)"
   ]
  },
  {
   "cell_type": "code",
   "execution_count": 49,
   "id": "6a3accd5",
   "metadata": {},
   "outputs": [],
   "source": [
    "#Extracting the locations\n",
    "location_tags=driver.find_elements_by_xpath('//li[@class=\"fleft grey-text br2 placeHolderLi location\"]/span')\n",
    "for i in location_tags:\n",
    "    location_list.append(i.text)"
   ]
  },
  {
   "cell_type": "code",
   "execution_count": 50,
   "id": "ced5fa56",
   "metadata": {},
   "outputs": [],
   "source": [
    "#Extracting the experience\n",
    "experience_tags=driver.find_elements_by_xpath('//li[@class=\"fleft grey-text br2 placeHolderLi experience\"]/span')\n",
    "for i in experience_tags:\n",
    "    experience_list.append(i.text)"
   ]
  },
  {
   "cell_type": "code",
   "execution_count": 51,
   "id": "487dd6c9",
   "metadata": {},
   "outputs": [
    {
     "data": {
      "text/html": [
       "<div>\n",
       "<style scoped>\n",
       "    .dataframe tbody tr th:only-of-type {\n",
       "        vertical-align: middle;\n",
       "    }\n",
       "\n",
       "    .dataframe tbody tr th {\n",
       "        vertical-align: top;\n",
       "    }\n",
       "\n",
       "    .dataframe thead th {\n",
       "        text-align: right;\n",
       "    }\n",
       "</style>\n",
       "<table border=\"1\" class=\"dataframe\">\n",
       "  <thead>\n",
       "    <tr style=\"text-align: right;\">\n",
       "      <th></th>\n",
       "      <th>Title</th>\n",
       "      <th>Name</th>\n",
       "      <th>Location</th>\n",
       "      <th>Experience</th>\n",
       "    </tr>\n",
       "  </thead>\n",
       "  <tbody>\n",
       "    <tr>\n",
       "      <th>0</th>\n",
       "      <td>Data Scientist</td>\n",
       "      <td>Ashkom Media India Private Limited</td>\n",
       "      <td>Noida, Bangalore/Bengaluru</td>\n",
       "      <td>3-6 Yrs</td>\n",
       "    </tr>\n",
       "    <tr>\n",
       "      <th>1</th>\n",
       "      <td>Associate Data Scientist</td>\n",
       "      <td>Optum</td>\n",
       "      <td>Gurgaon/Gurugram</td>\n",
       "      <td>1-5 Yrs</td>\n",
       "    </tr>\n",
       "    <tr>\n",
       "      <th>2</th>\n",
       "      <td>Associate Scientist - Data Engineering</td>\n",
       "      <td>AXA Technology Services India Pvt. Ltd</td>\n",
       "      <td>Gurgaon/Gurugram</td>\n",
       "      <td>2-5 Yrs</td>\n",
       "    </tr>\n",
       "    <tr>\n",
       "      <th>3</th>\n",
       "      <td>Data Scientist (freelance)</td>\n",
       "      <td>2Coms</td>\n",
       "      <td>New Delhi, Delhi</td>\n",
       "      <td>2-7 Yrs</td>\n",
       "    </tr>\n",
       "    <tr>\n",
       "      <th>4</th>\n",
       "      <td>Hiring For Data Analyst and Data Scientist For...</td>\n",
       "      <td>Shadow Placements</td>\n",
       "      <td>Noida, Gurgaon/Gurugram, Delhi / NCR</td>\n",
       "      <td>3-7 Yrs</td>\n",
       "    </tr>\n",
       "    <tr>\n",
       "      <th>5</th>\n",
       "      <td>Data Scientist/ Machine Learning, 2022 Passout...</td>\n",
       "      <td>Creative Hands HR Consultancy</td>\n",
       "      <td>Hyderabad/Secunderabad, Pune, Chennai, Delhi /...</td>\n",
       "      <td>0-4 Yrs</td>\n",
       "    </tr>\n",
       "    <tr>\n",
       "      <th>6</th>\n",
       "      <td>Data Scientist</td>\n",
       "      <td>BlackBuck</td>\n",
       "      <td>Gurgaon, Bengaluru</td>\n",
       "      <td>3-7 Yrs</td>\n",
       "    </tr>\n",
       "    <tr>\n",
       "      <th>7</th>\n",
       "      <td>Data Scientist</td>\n",
       "      <td>Boston Consulting Group</td>\n",
       "      <td>New Delhi</td>\n",
       "      <td>2-5 Yrs</td>\n",
       "    </tr>\n",
       "    <tr>\n",
       "      <th>8</th>\n",
       "      <td>Hiring For Senior Data Scientist-Noida</td>\n",
       "      <td>Lumiq.ai</td>\n",
       "      <td>Noida, Greater Noida, Delhi / NCR</td>\n",
       "      <td>2-6 Yrs</td>\n",
       "    </tr>\n",
       "    <tr>\n",
       "      <th>9</th>\n",
       "      <td>Senior Data Scientist</td>\n",
       "      <td>iNICU</td>\n",
       "      <td>Delhi</td>\n",
       "      <td>1-5 Yrs</td>\n",
       "    </tr>\n",
       "  </tbody>\n",
       "</table>\n",
       "</div>"
      ],
      "text/plain": [
       "                                               Title  \\\n",
       "0                                     Data Scientist   \n",
       "1                           Associate Data Scientist   \n",
       "2             Associate Scientist - Data Engineering   \n",
       "3                         Data Scientist (freelance)   \n",
       "4  Hiring For Data Analyst and Data Scientist For...   \n",
       "5  Data Scientist/ Machine Learning, 2022 Passout...   \n",
       "6                                     Data Scientist   \n",
       "7                                     Data Scientist   \n",
       "8             Hiring For Senior Data Scientist-Noida   \n",
       "9                              Senior Data Scientist   \n",
       "\n",
       "                                     Name  \\\n",
       "0      Ashkom Media India Private Limited   \n",
       "1                                   Optum   \n",
       "2  AXA Technology Services India Pvt. Ltd   \n",
       "3                                   2Coms   \n",
       "4                       Shadow Placements   \n",
       "5           Creative Hands HR Consultancy   \n",
       "6                               BlackBuck   \n",
       "7                 Boston Consulting Group   \n",
       "8                                Lumiq.ai   \n",
       "9                                   iNICU   \n",
       "\n",
       "                                            Location Experience  \n",
       "0                         Noida, Bangalore/Bengaluru    3-6 Yrs  \n",
       "1                                   Gurgaon/Gurugram    1-5 Yrs  \n",
       "2                                   Gurgaon/Gurugram    2-5 Yrs  \n",
       "3                                   New Delhi, Delhi    2-7 Yrs  \n",
       "4               Noida, Gurgaon/Gurugram, Delhi / NCR    3-7 Yrs  \n",
       "5  Hyderabad/Secunderabad, Pune, Chennai, Delhi /...    0-4 Yrs  \n",
       "6                                 Gurgaon, Bengaluru    3-7 Yrs  \n",
       "7                                          New Delhi    2-5 Yrs  \n",
       "8                  Noida, Greater Noida, Delhi / NCR    2-6 Yrs  \n",
       "9                                              Delhi    1-5 Yrs  "
      ]
     },
     "execution_count": 51,
     "metadata": {},
     "output_type": "execute_result"
    }
   ],
   "source": [
    "#Creating the data frame\n",
    "jobs=pd.DataFrame({'Title':job_titles[:10],'Name':company_name[:10],'Location':location_list[:10],'Experience':experience_list[:10]})\n",
    "jobs"
   ]
  },
  {
   "cell_type": "code",
   "execution_count": 52,
   "id": "fd0b38b4",
   "metadata": {},
   "outputs": [],
   "source": [
    "#To close the automated chrome window\n",
    "driver.close()"
   ]
  },
  {
   "cell_type": "markdown",
   "id": "aac019f3",
   "metadata": {},
   "source": [
    "# Q4: Scrape data of first 100 sunglasses listings on flipkart.com. You have to scrape four attributes:\n",
    "1. Brand\n",
    "2. Product Description\n",
    "3. Price\n",
    "The attributes which you have to scrape is ticked marked in the below image"
   ]
  },
  {
   "cell_type": "markdown",
   "id": "38348048",
   "metadata": {},
   "source": [
    "To scrape the data you have to go through following steps:\n",
    "1. Go to Flipkart webpage by url : https://www.flipkart.com/\n",
    "2. Enter “sunglasses” in the search field where “search for products, brands andmore” is written and\n",
    "click the search icon\n",
    "3. After that you will reach to the page having a lot of sunglasses. From this pageyou can scrap the\n",
    "required data as usual.\n",
    "4. After scraping data from the first page, go to the “Next” Button at the bottom ofthe page , then\n",
    "click on it.\n",
    "5. Now scrape data from this page as usual\n",
    "6. Repeat this until you get data for 100 sunglasses.\n",
    "Note: That all of the above steps have to be done by coding only and not manually."
   ]
  },
  {
   "cell_type": "code",
   "execution_count": 53,
   "id": "9c72ce1f",
   "metadata": {},
   "outputs": [],
   "source": [
    "driver=webdriver.Chrome(\"chromedriver.exe\")\n",
    "time.sleep(2)"
   ]
  },
  {
   "cell_type": "code",
   "execution_count": 54,
   "id": "65590220",
   "metadata": {},
   "outputs": [],
   "source": [
    "#Opening up naukri.com website on automated chrome window\n",
    "driver.get('https://www.flipkart.com/')"
   ]
  },
  {
   "cell_type": "code",
   "execution_count": 55,
   "id": "53be38c4",
   "metadata": {},
   "outputs": [],
   "source": [
    "#Clicking on the Closing pop up window button\n",
    "close_button=driver.find_element_by_xpath(\"/html/body/div[2]/div/div/button\")\n",
    "close_button.click()"
   ]
  },
  {
   "cell_type": "code",
   "execution_count": 56,
   "id": "04e87cd9",
   "metadata": {},
   "outputs": [],
   "source": [
    "#Find elements for job search bar\n",
    "search_field=driver.find_element_by_xpath(\"/html/body/div[1]/div/div[1]/div[1]/div[2]/div[2]/form/div/div/input\")   #Job search bar\n",
    "search_field.send_keys(\"Sunglasses\")"
   ]
  },
  {
   "cell_type": "code",
   "execution_count": 57,
   "id": "42133b0c",
   "metadata": {},
   "outputs": [],
   "source": [
    "#Closing the login pop up window\n",
    "search_button=driver.find_element_by_xpath(\"/html/body/div[1]/div/div[1]/div[1]/div[2]/div[2]/form/div/button\")\n",
    "search_button.click()"
   ]
  },
  {
   "cell_type": "code",
   "execution_count": 58,
   "id": "dea4cb27",
   "metadata": {},
   "outputs": [],
   "source": [
    "#Declaring the variables\n",
    "brand_name=[]\n",
    "product_details=[]\n",
    "price_list=[]\n",
    "\n",
    "#Extract all the tags having the Brand Name\n",
    "for i in range(0,3):\n",
    "    titles_tags=driver.find_elements_by_xpath(\"//div[@class='_2WkVRV']\")\n",
    "    for i in titles_tags:\n",
    "        brand_name.append(i.text)\n",
    "    next_button=driver.find_element_by_xpath(\"//a[@class='_1LKTO3']\")\n",
    "    next_button.click()\n",
    "    time.sleep(5)"
   ]
  },
  {
   "cell_type": "code",
   "execution_count": 59,
   "id": "9a1aaab5",
   "metadata": {},
   "outputs": [],
   "source": [
    "#Extract all the price tags and details\n",
    "for i in range(0,3):\n",
    "    price_tags=driver.find_elements_by_xpath('//a[@class=\"_3bPFwb\"]')\n",
    "    for i in price_tags:\n",
    "        price_list.append(i.text)\n",
    "    next_button=driver.find_element_by_xpath(\"//a[@class='_1LKTO3']\")\n",
    "    next_button.click()\n",
    "    time.sleep(5)"
   ]
  },
  {
   "cell_type": "code",
   "execution_count": 60,
   "id": "61f53c23",
   "metadata": {},
   "outputs": [],
   "source": [
    "#Extract all the tags related to product details\n",
    "for i in range(0,3):\n",
    "    product_tags=driver.find_elements_by_xpath('//a[@class=\"IRpwTa\"]')\n",
    "    for i in product_tags:\n",
    "        product_details.append(i.text)\n",
    "    next_button=driver.find_element_by_xpath(\"//a[@class='_1LKTO3']\")\n",
    "    next_button.click()\n",
    "    time.sleep(5)"
   ]
  },
  {
   "cell_type": "code",
   "execution_count": 61,
   "id": "5847a546",
   "metadata": {},
   "outputs": [
    {
     "data": {
      "text/html": [
       "<div>\n",
       "<style scoped>\n",
       "    .dataframe tbody tr th:only-of-type {\n",
       "        vertical-align: middle;\n",
       "    }\n",
       "\n",
       "    .dataframe tbody tr th {\n",
       "        vertical-align: top;\n",
       "    }\n",
       "\n",
       "    .dataframe thead th {\n",
       "        text-align: right;\n",
       "    }\n",
       "</style>\n",
       "<table border=\"1\" class=\"dataframe\">\n",
       "  <thead>\n",
       "    <tr style=\"text-align: right;\">\n",
       "      <th></th>\n",
       "      <th>Brand</th>\n",
       "      <th>Product Details</th>\n",
       "      <th>Price</th>\n",
       "    </tr>\n",
       "  </thead>\n",
       "  <tbody>\n",
       "    <tr>\n",
       "      <th>0</th>\n",
       "      <td>BAJERO</td>\n",
       "      <td>UV Protection, Polarized, Riding Glasses Retro...</td>\n",
       "      <td>₹299₹1,39978% off\\nFree delivery</td>\n",
       "    </tr>\n",
       "    <tr>\n",
       "      <th>1</th>\n",
       "      <td>Resist</td>\n",
       "      <td>Polarized Wayfarer Sunglasses (Free Size)</td>\n",
       "      <td>₹349₹2,59986% off\\nFree delivery</td>\n",
       "    </tr>\n",
       "    <tr>\n",
       "      <th>2</th>\n",
       "      <td>Fastrack</td>\n",
       "      <td>UV Protection Wayfarer Sunglasses (Free Size)</td>\n",
       "      <td>₹799₹1,19933% off\\nFree delivery</td>\n",
       "    </tr>\n",
       "    <tr>\n",
       "      <th>3</th>\n",
       "      <td>SUNBEE</td>\n",
       "      <td>UV Protection, Polarized Wayfarer Sunglasses (...</td>\n",
       "      <td>₹1,274₹8,00084% off\\nFree delivery</td>\n",
       "    </tr>\n",
       "    <tr>\n",
       "      <th>4</th>\n",
       "      <td>Fastrack</td>\n",
       "      <td>UV Protection Rectangular Sunglasses (Free Size)</td>\n",
       "      <td>₹206₹99979% off\\nFree delivery</td>\n",
       "    </tr>\n",
       "    <tr>\n",
       "      <th>...</th>\n",
       "      <td>...</td>\n",
       "      <td>...</td>\n",
       "      <td>...</td>\n",
       "    </tr>\n",
       "    <tr>\n",
       "      <th>95</th>\n",
       "      <td>Ray-Ban</td>\n",
       "      <td>Gradient Round Sunglasses (54)</td>\n",
       "      <td>₹854₹1,99957% off\\nFree delivery</td>\n",
       "    </tr>\n",
       "    <tr>\n",
       "      <th>96</th>\n",
       "      <td>New Specs</td>\n",
       "      <td>UV Protection Wayfarer Sunglasses (32)</td>\n",
       "      <td>₹329₹1,99983% off\\nFree delivery</td>\n",
       "    </tr>\n",
       "    <tr>\n",
       "      <th>97</th>\n",
       "      <td>PIRASO</td>\n",
       "      <td>UV Protection Rectangular Sunglasses (Free Size)</td>\n",
       "      <td>₹647₹89928% off\\nFree delivery</td>\n",
       "    </tr>\n",
       "    <tr>\n",
       "      <th>98</th>\n",
       "      <td>SRPM</td>\n",
       "      <td>Polarized Wayfarer Sunglasses (Free Size)</td>\n",
       "      <td>₹749₹2,50070% off\\nFree delivery</td>\n",
       "    </tr>\n",
       "    <tr>\n",
       "      <th>99</th>\n",
       "      <td>Arnette</td>\n",
       "      <td>Polarized, UV Protection Retro Square Sunglass...</td>\n",
       "      <td>₹799₹1,99960% off\\nFree delivery</td>\n",
       "    </tr>\n",
       "  </tbody>\n",
       "</table>\n",
       "<p>100 rows × 3 columns</p>\n",
       "</div>"
      ],
      "text/plain": [
       "        Brand                                    Product Details  \\\n",
       "0      BAJERO  UV Protection, Polarized, Riding Glasses Retro...   \n",
       "1      Resist          Polarized Wayfarer Sunglasses (Free Size)   \n",
       "2    Fastrack      UV Protection Wayfarer Sunglasses (Free Size)   \n",
       "3      SUNBEE  UV Protection, Polarized Wayfarer Sunglasses (...   \n",
       "4    Fastrack   UV Protection Rectangular Sunglasses (Free Size)   \n",
       "..        ...                                                ...   \n",
       "95    Ray-Ban                     Gradient Round Sunglasses (54)   \n",
       "96  New Specs             UV Protection Wayfarer Sunglasses (32)   \n",
       "97     PIRASO   UV Protection Rectangular Sunglasses (Free Size)   \n",
       "98       SRPM          Polarized Wayfarer Sunglasses (Free Size)   \n",
       "99    Arnette  Polarized, UV Protection Retro Square Sunglass...   \n",
       "\n",
       "                                 Price  \n",
       "0     ₹299₹1,39978% off\\nFree delivery  \n",
       "1     ₹349₹2,59986% off\\nFree delivery  \n",
       "2     ₹799₹1,19933% off\\nFree delivery  \n",
       "3   ₹1,274₹8,00084% off\\nFree delivery  \n",
       "4       ₹206₹99979% off\\nFree delivery  \n",
       "..                                 ...  \n",
       "95    ₹854₹1,99957% off\\nFree delivery  \n",
       "96    ₹329₹1,99983% off\\nFree delivery  \n",
       "97      ₹647₹89928% off\\nFree delivery  \n",
       "98    ₹749₹2,50070% off\\nFree delivery  \n",
       "99    ₹799₹1,99960% off\\nFree delivery  \n",
       "\n",
       "[100 rows x 3 columns]"
      ]
     },
     "execution_count": 61,
     "metadata": {},
     "output_type": "execute_result"
    }
   ],
   "source": [
    "#Creating the data frame\n",
    "df=pd.DataFrame({'Brand':brand_name[:100],'Product Details':product_details[:100],'Price':price_list[:100]})\n",
    "df"
   ]
  },
  {
   "cell_type": "code",
   "execution_count": 62,
   "id": "955cf72b",
   "metadata": {},
   "outputs": [],
   "source": [
    "#Closing the automated chrome window\n",
    "driver.close()"
   ]
  },
  {
   "cell_type": "markdown",
   "id": "f96174e4",
   "metadata": {},
   "source": [
    "# Q5: Scrape 100 reviews data from flipkart.com for iphone11 phone. You have to go the link:\n",
    "https://www.flipkart.com/apple-iphone-11-black-64-gb-includes-earpods-poweradapter/p/itm0f37c2240b217?pid=MOBFKCTSVZAXUHGR&lid=LSTMOBFKCTSVZAXUHGREPBFGI&marketplace"
   ]
  },
  {
   "cell_type": "markdown",
   "id": "4abc8e02",
   "metadata": {},
   "source": [
    "As shown in the above page you have to scrape the tick marked attributes.These are:\n",
    "1. Rating\n",
    "2. Review summary\n",
    "3. Full review\n",
    "4. You have to scrape this data for first 100 reviews"
   ]
  },
  {
   "cell_type": "code",
   "execution_count": 9,
   "id": "a87350a6",
   "metadata": {},
   "outputs": [],
   "source": [
    "driver=webdriver.Chrome(\"chromedriver.exe\")\n",
    "time.sleep(2)"
   ]
  },
  {
   "cell_type": "code",
   "execution_count": 10,
   "id": "3cb5c13a",
   "metadata": {},
   "outputs": [],
   "source": [
    "#Opening up naukri.com website on automated chrome window\n",
    "driver.get('https://www.flipkart.com/apple-iphone-11-black-64-gb-includes-earpods-poweradapter/p/itm0f37c2240b217?pid=MOBFKCTSVZAXUHGR&lid=LSTMOBFKCTSVZAXUHGREPBFGI&marketplace')"
   ]
  },
  {
   "cell_type": "code",
   "execution_count": 11,
   "id": "89349245",
   "metadata": {},
   "outputs": [],
   "source": [
    "#Expad all the reviews\n",
    "reviews_button=driver.find_element_by_xpath(\"/html/body/div[1]/div/div[3]/div[1]/div[2]/div[9]/div/div/div[5]/div/a/div/span\")\n",
    "reviews_button.click()"
   ]
  },
  {
   "cell_type": "code",
   "execution_count": 13,
   "id": "bbff1056",
   "metadata": {},
   "outputs": [],
   "source": [
    "#Declaring the variables\n",
    "ratings=[]\n",
    "review_summary=[]\n",
    "full_review=[]\n",
    "\n",
    "#Extracting all the tags of ratings\n",
    "for i in range(0,10):\n",
    "    rating_tags=driver.find_elements_by_xpath('//div[@class=\"_3LWZlK _1BLPMq\"]')\n",
    "    for i in rating_tags:\n",
    "        ratings.append(i.text)\n",
    "    next_button=driver.find_element_by_xpath(\"//a[@class='_1LKTO3']\")\n",
    "    next_button.click()\n",
    "    time.sleep(5)"
   ]
  },
  {
   "cell_type": "code",
   "execution_count": 14,
   "id": "ac20e0f6",
   "metadata": {},
   "outputs": [],
   "source": [
    "#Extracting tags and collecting the data of reviews\n",
    "for i in range(0,10):\n",
    "    review_tags=driver.find_elements_by_xpath('//p[@class=\"_2-N8zT\"]')\n",
    "    for i in review_tags:\n",
    "        review_summary.append(i.text)\n",
    "    next_button=driver.find_element_by_xpath(\"//a[@class='_1LKTO3']\")\n",
    "    next_button.click()\n",
    "    time.sleep(5)"
   ]
  },
  {
   "cell_type": "code",
   "execution_count": 15,
   "id": "c2680958",
   "metadata": {},
   "outputs": [],
   "source": [
    "#Extracting tags and collecting the data of reviews in detail\n",
    "for i in range(0,10):\n",
    "    full_review_tags=driver.find_elements_by_xpath('//div[@class=\"t-ZTKy\"]')\n",
    "    for i in full_review_tags:\n",
    "        full_review.append(i.text)\n",
    "    next_button=driver.find_element_by_xpath(\"//a[@class='_1LKTO3']\")\n",
    "    next_button.click()\n",
    "    time.sleep(5)"
   ]
  },
  {
   "cell_type": "code",
   "execution_count": 17,
   "id": "4c4685e1",
   "metadata": {},
   "outputs": [
    {
     "data": {
      "text/html": [
       "<div>\n",
       "<style scoped>\n",
       "    .dataframe tbody tr th:only-of-type {\n",
       "        vertical-align: middle;\n",
       "    }\n",
       "\n",
       "    .dataframe tbody tr th {\n",
       "        vertical-align: top;\n",
       "    }\n",
       "\n",
       "    .dataframe thead th {\n",
       "        text-align: right;\n",
       "    }\n",
       "</style>\n",
       "<table border=\"1\" class=\"dataframe\">\n",
       "  <thead>\n",
       "    <tr style=\"text-align: right;\">\n",
       "      <th></th>\n",
       "      <th>Rating</th>\n",
       "      <th>Review Summary</th>\n",
       "      <th>Detailed Review</th>\n",
       "    </tr>\n",
       "  </thead>\n",
       "  <tbody>\n",
       "    <tr>\n",
       "      <th>0</th>\n",
       "      <td>5</td>\n",
       "      <td>Brilliant</td>\n",
       "      <td>The Best Phone for the Money\\n\\nThe iPhone 11 ...</td>\n",
       "    </tr>\n",
       "    <tr>\n",
       "      <th>1</th>\n",
       "      <td>5</td>\n",
       "      <td>Simply awesome</td>\n",
       "      <td>Really satisfied with the Product I received.....</td>\n",
       "    </tr>\n",
       "    <tr>\n",
       "      <th>2</th>\n",
       "      <td>5</td>\n",
       "      <td>Best in the market!</td>\n",
       "      <td>Great iPhone very snappy experience as apple k...</td>\n",
       "    </tr>\n",
       "    <tr>\n",
       "      <th>3</th>\n",
       "      <td>5</td>\n",
       "      <td>Perfect product!</td>\n",
       "      <td>Amazing phone with great cameras and better ba...</td>\n",
       "    </tr>\n",
       "    <tr>\n",
       "      <th>4</th>\n",
       "      <td>5</td>\n",
       "      <td>Fabulous!</td>\n",
       "      <td>This is my first iOS phone. I am very happy wi...</td>\n",
       "    </tr>\n",
       "    <tr>\n",
       "      <th>...</th>\n",
       "      <td>...</td>\n",
       "      <td>...</td>\n",
       "      <td>...</td>\n",
       "    </tr>\n",
       "    <tr>\n",
       "      <th>95</th>\n",
       "      <td>5</td>\n",
       "      <td>Perfect product!</td>\n",
       "      <td>Iphone is just awesome.. battery backup is ver...</td>\n",
       "    </tr>\n",
       "    <tr>\n",
       "      <th>96</th>\n",
       "      <td>5</td>\n",
       "      <td>Worth every penny</td>\n",
       "      <td>Best budget Iphone till date ❤️ go for it guys...</td>\n",
       "    </tr>\n",
       "    <tr>\n",
       "      <th>97</th>\n",
       "      <td>5</td>\n",
       "      <td>Simply awesome</td>\n",
       "      <td>Excellent camera, good performance, no lag. Th...</td>\n",
       "    </tr>\n",
       "    <tr>\n",
       "      <th>98</th>\n",
       "      <td>5</td>\n",
       "      <td>Terrific</td>\n",
       "      <td>Really worth of money. i just love it. It is t...</td>\n",
       "    </tr>\n",
       "    <tr>\n",
       "      <th>99</th>\n",
       "      <td>5</td>\n",
       "      <td>Classy product</td>\n",
       "      <td>Totally in love with this ❤ the camera quality...</td>\n",
       "    </tr>\n",
       "  </tbody>\n",
       "</table>\n",
       "<p>100 rows × 3 columns</p>\n",
       "</div>"
      ],
      "text/plain": [
       "   Rating       Review Summary  \\\n",
       "0       5            Brilliant   \n",
       "1       5       Simply awesome   \n",
       "2       5  Best in the market!   \n",
       "3       5     Perfect product!   \n",
       "4       5            Fabulous!   \n",
       "..    ...                  ...   \n",
       "95      5     Perfect product!   \n",
       "96      5    Worth every penny   \n",
       "97      5       Simply awesome   \n",
       "98      5             Terrific   \n",
       "99      5       Classy product   \n",
       "\n",
       "                                      Detailed Review  \n",
       "0   The Best Phone for the Money\\n\\nThe iPhone 11 ...  \n",
       "1   Really satisfied with the Product I received.....  \n",
       "2   Great iPhone very snappy experience as apple k...  \n",
       "3   Amazing phone with great cameras and better ba...  \n",
       "4   This is my first iOS phone. I am very happy wi...  \n",
       "..                                                ...  \n",
       "95  Iphone is just awesome.. battery backup is ver...  \n",
       "96  Best budget Iphone till date ❤️ go for it guys...  \n",
       "97  Excellent camera, good performance, no lag. Th...  \n",
       "98  Really worth of money. i just love it. It is t...  \n",
       "99  Totally in love with this ❤ the camera quality...  \n",
       "\n",
       "[100 rows x 3 columns]"
      ]
     },
     "execution_count": 17,
     "metadata": {},
     "output_type": "execute_result"
    }
   ],
   "source": [
    "#Creating the data frame\n",
    "df=pd.DataFrame({'Rating':ratings,'Review Summary':review_summary,'Detailed Review':full_review})\n",
    "df"
   ]
  },
  {
   "cell_type": "code",
   "execution_count": 18,
   "id": "0a5e0643",
   "metadata": {},
   "outputs": [],
   "source": [
    "#Closing the automated chrome window\n",
    "driver.close()"
   ]
  },
  {
   "cell_type": "markdown",
   "id": "6f831eac",
   "metadata": {},
   "source": [
    "# Q6: Scrape data for first 100 sneakers you find when you visit flipkart.com andsearch for “sneakers” in the search field.\n",
    "You have to scrape 4 attributes of each sneaker:\n",
    "1. Brand\n",
    "2. Product Description\n",
    "3. Price\n"
   ]
  },
  {
   "cell_type": "code",
   "execution_count": 13,
   "id": "1311e6e9",
   "metadata": {},
   "outputs": [],
   "source": [
    "driver=webdriver.Chrome(\"chromedriver.exe\")\n",
    "time.sleep(2)"
   ]
  },
  {
   "cell_type": "code",
   "execution_count": 14,
   "id": "1ce750ff",
   "metadata": {},
   "outputs": [],
   "source": [
    "#Opening up naukri.com website on automated chrome window\n",
    "driver.get('https://www.flipkart.com/')"
   ]
  },
  {
   "cell_type": "code",
   "execution_count": 15,
   "id": "8db4e1af",
   "metadata": {},
   "outputs": [],
   "source": [
    "#Clicking on the Closing pop up window button\n",
    "close_button=driver.find_element_by_xpath(\"/html/body/div[2]/div/div/button\")\n",
    "close_button.click()"
   ]
  },
  {
   "cell_type": "code",
   "execution_count": 16,
   "id": "24f9de45",
   "metadata": {},
   "outputs": [],
   "source": [
    "#Find elements for job search bar\n",
    "search_field=driver.find_element_by_xpath(\"/html/body/div[1]/div/div[1]/div[1]/div[2]/div[2]/form/div/div/input\")   #Job search bar\n",
    "search_field.send_keys(\"sneakers\")"
   ]
  },
  {
   "cell_type": "code",
   "execution_count": 17,
   "id": "475d457d",
   "metadata": {},
   "outputs": [],
   "source": [
    "#Utilizing the search functionality \n",
    "search_button=driver.find_element_by_xpath(\"/html/body/div[1]/div/div[1]/div[1]/div[2]/div[2]/form/div/button\")\n",
    "search_button.click()"
   ]
  },
  {
   "cell_type": "code",
   "execution_count": 18,
   "id": "e9434ee0",
   "metadata": {},
   "outputs": [],
   "source": [
    "#Declaring the variables\n",
    "brand_name=[]\n",
    "product_details=[]\n",
    "price_list=[]\n",
    "\n",
    "#Extract all the tags having the Brand Name\n",
    "for i in range(0,3):\n",
    "    brand_tags=driver.find_elements_by_xpath(\"//div[@class='_2WkVRV']\")\n",
    "    for i in brand_tags:\n",
    "        brand_name.append(i.text)\n",
    "    next_button=driver.find_element_by_xpath('//a[@class=\"_1LKTO3\"]')\n",
    "    next_button.click()\n",
    "    time.sleep(5)\n"
   ]
  },
  {
   "cell_type": "code",
   "execution_count": 20,
   "id": "bf4ebc03",
   "metadata": {},
   "outputs": [],
   "source": [
    "#Extract all the tags related to product details\n",
    "for i in range(0,3):\n",
    "    product_tags=driver.find_elements_by_xpath(\"//div[@class='_2WkVRV']\")\n",
    "    for i in product_tags:\n",
    "        product_details.append(i.text)\n",
    "    next_button=driver.find_element_by_xpath('//a[@class=\"_1LKTO3\"]')\n",
    "    next_button.click()\n",
    "    time.sleep(5)\n"
   ]
  },
  {
   "cell_type": "code",
   "execution_count": 21,
   "id": "1f030bff",
   "metadata": {},
   "outputs": [],
   "source": [
    "#Extract all the price tags and details\n",
    "for i in range(0,3):\n",
    "    price_tags=driver.find_elements_by_xpath('//a[@class=\"_3bPFwb\"]')\n",
    "    for i in price_tags:\n",
    "        price_list.append(i.text)\n",
    "    next_button=driver.find_element_by_xpath('//a[@class=\"_1LKTO3\"]')\n",
    "    next_button.click()\n",
    "    time.sleep(5)"
   ]
  },
  {
   "cell_type": "code",
   "execution_count": 22,
   "id": "63d18269",
   "metadata": {},
   "outputs": [
    {
     "data": {
      "text/html": [
       "<div>\n",
       "<style scoped>\n",
       "    .dataframe tbody tr th:only-of-type {\n",
       "        vertical-align: middle;\n",
       "    }\n",
       "\n",
       "    .dataframe tbody tr th {\n",
       "        vertical-align: top;\n",
       "    }\n",
       "\n",
       "    .dataframe thead th {\n",
       "        text-align: right;\n",
       "    }\n",
       "</style>\n",
       "<table border=\"1\" class=\"dataframe\">\n",
       "  <thead>\n",
       "    <tr style=\"text-align: right;\">\n",
       "      <th></th>\n",
       "      <th>Brand</th>\n",
       "      <th>Product Details</th>\n",
       "      <th>Price</th>\n",
       "    </tr>\n",
       "  </thead>\n",
       "  <tbody>\n",
       "    <tr>\n",
       "      <th>0</th>\n",
       "      <td>luxury fashion</td>\n",
       "      <td>luxury fashion</td>\n",
       "      <td>₹499₹1,29961% off\\nFree delivery</td>\n",
       "    </tr>\n",
       "    <tr>\n",
       "      <th>1</th>\n",
       "      <td>Arivo</td>\n",
       "      <td>Arohi</td>\n",
       "      <td>₹569₹1,99971% off\\nFree delivery</td>\n",
       "    </tr>\n",
       "    <tr>\n",
       "      <th>2</th>\n",
       "      <td>URBANBOX</td>\n",
       "      <td>Echor</td>\n",
       "      <td>₹178₹99982% off</td>\n",
       "    </tr>\n",
       "    <tr>\n",
       "      <th>3</th>\n",
       "      <td>corsac</td>\n",
       "      <td>HOTSTYLE</td>\n",
       "      <td>₹499₹1,49966% off\\nFree delivery</td>\n",
       "    </tr>\n",
       "    <tr>\n",
       "      <th>4</th>\n",
       "      <td>BRUTON</td>\n",
       "      <td>PUMA</td>\n",
       "      <td>₹295₹1,29977% off\\nFree delivery</td>\n",
       "    </tr>\n",
       "    <tr>\n",
       "      <th>...</th>\n",
       "      <td>...</td>\n",
       "      <td>...</td>\n",
       "      <td>...</td>\n",
       "    </tr>\n",
       "    <tr>\n",
       "      <th>95</th>\n",
       "      <td>Roadster</td>\n",
       "      <td>RapidBox</td>\n",
       "      <td>₹799₹1,99960% off\\nFree delivery</td>\n",
       "    </tr>\n",
       "    <tr>\n",
       "      <th>96</th>\n",
       "      <td>EMPTILE</td>\n",
       "      <td>Echor</td>\n",
       "      <td>₹396₹99960% off\\nFree delivery</td>\n",
       "    </tr>\n",
       "    <tr>\n",
       "      <th>97</th>\n",
       "      <td>World Wear Footwear</td>\n",
       "      <td>Chevit</td>\n",
       "      <td>₹249₹49950% off\\nFree delivery</td>\n",
       "    </tr>\n",
       "    <tr>\n",
       "      <th>98</th>\n",
       "      <td>corsac</td>\n",
       "      <td>bluemaker</td>\n",
       "      <td>₹549₹1,49963% off\\nFree delivery</td>\n",
       "    </tr>\n",
       "    <tr>\n",
       "      <th>99</th>\n",
       "      <td>RapidBox</td>\n",
       "      <td>Roadster</td>\n",
       "      <td>₹299₹1,29976% off\\nFree delivery</td>\n",
       "    </tr>\n",
       "  </tbody>\n",
       "</table>\n",
       "<p>100 rows × 3 columns</p>\n",
       "</div>"
      ],
      "text/plain": [
       "                  Brand Product Details                             Price\n",
       "0        luxury fashion  luxury fashion  ₹499₹1,29961% off\\nFree delivery\n",
       "1                 Arivo           Arohi  ₹569₹1,99971% off\\nFree delivery\n",
       "2              URBANBOX           Echor                   ₹178₹99982% off\n",
       "3                corsac        HOTSTYLE  ₹499₹1,49966% off\\nFree delivery\n",
       "4                BRUTON            PUMA  ₹295₹1,29977% off\\nFree delivery\n",
       "..                  ...             ...                               ...\n",
       "95             Roadster        RapidBox  ₹799₹1,99960% off\\nFree delivery\n",
       "96              EMPTILE           Echor    ₹396₹99960% off\\nFree delivery\n",
       "97  World Wear Footwear          Chevit    ₹249₹49950% off\\nFree delivery\n",
       "98               corsac       bluemaker  ₹549₹1,49963% off\\nFree delivery\n",
       "99             RapidBox        Roadster  ₹299₹1,29976% off\\nFree delivery\n",
       "\n",
       "[100 rows x 3 columns]"
      ]
     },
     "execution_count": 22,
     "metadata": {},
     "output_type": "execute_result"
    }
   ],
   "source": [
    "#Creating the data frame\n",
    "df=pd.DataFrame({'Brand':brand_name[:100],'Product Details':product_details[:100],'Price':price_list[:100]})\n",
    "df"
   ]
  },
  {
   "cell_type": "code",
   "execution_count": 23,
   "id": "82e03c07",
   "metadata": {},
   "outputs": [],
   "source": [
    "#Closing automated chrome window\n",
    "driver.close()"
   ]
  },
  {
   "cell_type": "code",
   "execution_count": null,
   "id": "6c3ed545",
   "metadata": {},
   "outputs": [],
   "source": []
  },
  {
   "cell_type": "markdown",
   "id": "761c0aed",
   "metadata": {},
   "source": [
    "# Q7: Go to the link - https://www.myntra.com/shoes\n",
    "Set Price filter to “Rs. 7149 to Rs. 14099 ” , Color filter to “Black”, as shown in the below image\n",
    "And then scrape First 100 shoes data you get. The data should include “Brand” of the shoes , Short Shoe\n",
    "description, price of the shoe as shown in the below image."
   ]
  },
  {
   "cell_type": "code",
   "execution_count": 75,
   "id": "4ef8d7fd",
   "metadata": {},
   "outputs": [],
   "source": [
    "driver=webdriver.Chrome(\"chromedriver.exe\")\n",
    "time.sleep(2)"
   ]
  },
  {
   "cell_type": "code",
   "execution_count": 76,
   "id": "f81a0c79",
   "metadata": {},
   "outputs": [],
   "source": [
    "driver.get('https://www.myntra.com/shoes')"
   ]
  },
  {
   "cell_type": "code",
   "execution_count": 77,
   "id": "ddaab756",
   "metadata": {},
   "outputs": [],
   "source": [
    "#Set the color filter to BLACK\n",
    "color_filter=driver.find_element_by_xpath(\"/html/body/div[2]/div/div[1]/main/div[3]/div[1]/section/div/div[6]/ul/li[1]/label/div\")\n",
    "color_filter.click()"
   ]
  },
  {
   "cell_type": "code",
   "execution_count": 78,
   "id": "36a28428",
   "metadata": {},
   "outputs": [],
   "source": [
    "#Set the filter to Rs 7149 to Rs 14099\n",
    "price_filter=driver.find_element_by_xpath(\"/html/body/div[2]/div/div[1]/main/div[3]/div[1]/section/div/div[5]/ul/li[2]/label/div\")\n",
    "price_filter.click()\n"
   ]
  },
  {
   "cell_type": "code",
   "execution_count": 79,
   "id": "1662554c",
   "metadata": {},
   "outputs": [],
   "source": [
    "#Declaring the variables\n",
    "brand_name=[]\n",
    "product_details=[]\n",
    "price_list=[]\n",
    "page_urls=[]\n",
    "\n",
    "#Collecting the URL of all the pages\n",
    "nxt_page = driver.find_elements_by_xpath(\"//ul[@class='pagination-container']/li/a\")\n",
    "for i in nxt_page:\n",
    "    page_urls.append(i.get_attribute('href'))"
   ]
  },
  {
   "cell_type": "code",
   "execution_count": 80,
   "id": "663a11a4",
   "metadata": {},
   "outputs": [],
   "source": [
    "#Extract all the tags having the Brand Name\n",
    "for url in page_urls[:3]:\n",
    "    driver.get(url)\n",
    "    Names=driver.find_elements_by_xpath(\"//div[@class='product-productMetaInfo']/h3\")  #for scrapping shoe brand names\n",
    "    for i in Names:\n",
    "        brand_name.append(i.text)\n",
    "    brand_name   \n",
    "    time.sleep(5)\n"
   ]
  },
  {
   "cell_type": "code",
   "execution_count": 82,
   "id": "0e1484f4",
   "metadata": {},
   "outputs": [],
   "source": [
    "#Extract all the tags having the product details\n",
    "for url in page_urls[:2]:\n",
    "    driver.get(url)\n",
    "    product_tags=driver.find_elements_by_xpath('//h4[@class=\"product-product\"]')  #for scrapping shoe Product details\n",
    "    for i in product_tags:\n",
    "        product_details.append(i.text)\n",
    "    product_details   \n",
    "    time.sleep(5)\n"
   ]
  },
  {
   "cell_type": "code",
   "execution_count": 83,
   "id": "8e9e7f88",
   "metadata": {},
   "outputs": [],
   "source": [
    "#Extract all the tags having the price details\n",
    "for url in page_urls[:3]:\n",
    "    driver.get(url)\n",
    "    price_tags=driver.find_elements_by_xpath('//div[@class=\"product-price\"]')  #for scrapping shoe Product details\n",
    "    for i in price_tags:\n",
    "        price_list.append(i.text)\n",
    "    price_list   \n",
    "    time.sleep(5)\n"
   ]
  },
  {
   "cell_type": "code",
   "execution_count": 85,
   "id": "e5906c01",
   "metadata": {},
   "outputs": [
    {
     "data": {
      "text/html": [
       "<div>\n",
       "<style scoped>\n",
       "    .dataframe tbody tr th:only-of-type {\n",
       "        vertical-align: middle;\n",
       "    }\n",
       "\n",
       "    .dataframe tbody tr th {\n",
       "        vertical-align: top;\n",
       "    }\n",
       "\n",
       "    .dataframe thead th {\n",
       "        text-align: right;\n",
       "    }\n",
       "</style>\n",
       "<table border=\"1\" class=\"dataframe\">\n",
       "  <thead>\n",
       "    <tr style=\"text-align: right;\">\n",
       "      <th></th>\n",
       "      <th>Brand</th>\n",
       "      <th>Product Details</th>\n",
       "      <th>Price</th>\n",
       "    </tr>\n",
       "  </thead>\n",
       "  <tbody>\n",
       "    <tr>\n",
       "      <th>0</th>\n",
       "      <td>ALDO</td>\n",
       "      <td>Men Woven Design Sneakers</td>\n",
       "      <td>Rs. 13999</td>\n",
       "    </tr>\n",
       "    <tr>\n",
       "      <th>1</th>\n",
       "      <td>UNDER ARMOUR</td>\n",
       "      <td>Men Vantage 2 Running Shoes</td>\n",
       "      <td>Rs. 7999</td>\n",
       "    </tr>\n",
       "    <tr>\n",
       "      <th>2</th>\n",
       "      <td>ALDO</td>\n",
       "      <td>Men Leather Driving Shoes</td>\n",
       "      <td>Rs. 12999</td>\n",
       "    </tr>\n",
       "    <tr>\n",
       "      <th>3</th>\n",
       "      <td>ALDO</td>\n",
       "      <td>Men Leather Loafers</td>\n",
       "      <td>Rs. 12999</td>\n",
       "    </tr>\n",
       "    <tr>\n",
       "      <th>4</th>\n",
       "      <td>Skechers</td>\n",
       "      <td>Men Max Cushioning Running</td>\n",
       "      <td>Rs. 7649Rs. 8999(15% OFF)</td>\n",
       "    </tr>\n",
       "    <tr>\n",
       "      <th>...</th>\n",
       "      <td>...</td>\n",
       "      <td>...</td>\n",
       "      <td>...</td>\n",
       "    </tr>\n",
       "    <tr>\n",
       "      <th>95</th>\n",
       "      <td>J.FONTINI</td>\n",
       "      <td>Men Leather Formal Loafers</td>\n",
       "      <td>Rs. 7490</td>\n",
       "    </tr>\n",
       "    <tr>\n",
       "      <th>96</th>\n",
       "      <td>ALDO</td>\n",
       "      <td>Textured Block Pumps</td>\n",
       "      <td>Rs. 7999</td>\n",
       "    </tr>\n",
       "    <tr>\n",
       "      <th>97</th>\n",
       "      <td>FILA</td>\n",
       "      <td>Women Colourblocked Leather Sneakers</td>\n",
       "      <td>Rs. 9999</td>\n",
       "    </tr>\n",
       "    <tr>\n",
       "      <th>98</th>\n",
       "      <td>ALDO</td>\n",
       "      <td>Leather Platform Mules</td>\n",
       "      <td>Rs. 9999</td>\n",
       "    </tr>\n",
       "    <tr>\n",
       "      <th>99</th>\n",
       "      <td>Puma</td>\n",
       "      <td>Muse X5 Crystal Galaxy Sneaker</td>\n",
       "      <td>Rs. 7999</td>\n",
       "    </tr>\n",
       "  </tbody>\n",
       "</table>\n",
       "<p>100 rows × 3 columns</p>\n",
       "</div>"
      ],
      "text/plain": [
       "           Brand                       Product Details  \\\n",
       "0           ALDO             Men Woven Design Sneakers   \n",
       "1   UNDER ARMOUR           Men Vantage 2 Running Shoes   \n",
       "2           ALDO             Men Leather Driving Shoes   \n",
       "3           ALDO                   Men Leather Loafers   \n",
       "4       Skechers            Men Max Cushioning Running   \n",
       "..           ...                                   ...   \n",
       "95     J.FONTINI            Men Leather Formal Loafers   \n",
       "96          ALDO                  Textured Block Pumps   \n",
       "97          FILA  Women Colourblocked Leather Sneakers   \n",
       "98          ALDO                Leather Platform Mules   \n",
       "99          Puma        Muse X5 Crystal Galaxy Sneaker   \n",
       "\n",
       "                        Price  \n",
       "0                   Rs. 13999  \n",
       "1                    Rs. 7999  \n",
       "2                   Rs. 12999  \n",
       "3                   Rs. 12999  \n",
       "4   Rs. 7649Rs. 8999(15% OFF)  \n",
       "..                        ...  \n",
       "95                   Rs. 7490  \n",
       "96                   Rs. 7999  \n",
       "97                   Rs. 9999  \n",
       "98                   Rs. 9999  \n",
       "99                   Rs. 7999  \n",
       "\n",
       "[100 rows x 3 columns]"
      ]
     },
     "execution_count": 85,
     "metadata": {},
     "output_type": "execute_result"
    }
   ],
   "source": [
    "#Creating the data frame\n",
    "df=pd.DataFrame({'Brand':brand_name[:100],'Product Details':product_details[:100],'Price':price_list[:100]})\n",
    "df"
   ]
  },
  {
   "cell_type": "code",
   "execution_count": 86,
   "id": "4d7a406c",
   "metadata": {},
   "outputs": [],
   "source": [
    "#Closing the automated window\n",
    "driver.close()"
   ]
  },
  {
   "cell_type": "markdown",
   "id": "10fb7a74",
   "metadata": {},
   "source": [
    "# Q8: Go to webpage https://www.amazon.in/\n",
    "Enter “Laptop” in the search field and then click the search icon.\n",
    "Then set CPU Type filter to “Intel Core i7” and “Intel Core i9” as shown in the below image:"
   ]
  },
  {
   "cell_type": "markdown",
   "id": "3b78a91f",
   "metadata": {},
   "source": [
    "After setting the filters scrape first 10 laptops data. You have to scrape 3 attributesfor each laptop:\n",
    "1. Title\n",
    "2. Ratings\n",
    "3. Price\n",
    "As shown in the below image as the tick marked attributes"
   ]
  },
  {
   "cell_type": "code",
   "execution_count": 19,
   "id": "306d7737",
   "metadata": {},
   "outputs": [],
   "source": [
    "driver=webdriver.Chrome(\"chromedriver.exe\")\n",
    "time.sleep(2)"
   ]
  },
  {
   "cell_type": "code",
   "execution_count": 20,
   "id": "8dabd8c4",
   "metadata": {},
   "outputs": [],
   "source": [
    "#Opening up naukri.com website on automated chrome window\n",
    "driver.get('https://www.amazon.in/')"
   ]
  },
  {
   "cell_type": "code",
   "execution_count": 21,
   "id": "923fe6c2",
   "metadata": {},
   "outputs": [],
   "source": [
    "#Find elements for job search bar\n",
    "search_field=driver.find_element_by_xpath('/html/body/div[1]/header/div/div[1]/div[2]/div/form/div[2]/div[1]/input')   #Job search bar\n",
    "search_field.send_keys(\"Laptop\")"
   ]
  },
  {
   "cell_type": "code",
   "execution_count": 22,
   "id": "e2829fef",
   "metadata": {},
   "outputs": [],
   "source": [
    "#Click on search button\n",
    "search_button=driver.find_element_by_xpath(\"/html/body/div[1]/header/div/div[1]/div[2]/div/form/div[3]/div/span/input\")\n",
    "search_button.click()"
   ]
  },
  {
   "cell_type": "code",
   "execution_count": 23,
   "id": "68be944e",
   "metadata": {},
   "outputs": [],
   "source": [
    "#Set the color filter to to select i7 CPU\n",
    "i7_filter=driver.find_element_by_xpath(\"/html/body/div[2]/div[2]/div[1]/div[2]/div/div[3]/span/div[1]/div/div/div[6]/ul[4]/li[14]/span/a/div/label/i\")\n",
    "i7_filter.click()"
   ]
  },
  {
   "cell_type": "code",
   "execution_count": 24,
   "id": "b298e2f7",
   "metadata": {},
   "outputs": [],
   "source": [
    "#Set the color filter to to select i5 CPU\n",
    "i5_filter=driver.find_element_by_xpath(\"/html/body/div[2]/div[2]/div[1]/div[2]/div/div[3]/span/div[1]/div/div/div[6]/ul[4]/li[2]/span/a/div/label/i\")\n",
    "i5_filter.click()"
   ]
  },
  {
   "cell_type": "code",
   "execution_count": 25,
   "id": "2e5618a3",
   "metadata": {},
   "outputs": [],
   "source": [
    "#Declaring the variables\n",
    "title_name=[]\n",
    "ratings=[]\n",
    "price_list=[]\n",
    "\n",
    "#Extract the title of the laptop\n",
    "titles_tags=driver.find_elements_by_xpath('//h2[@class=\"a-size-mini a-spacing-none a-color-base s-line-clamp-2\"]')\n",
    "for i in titles_tags:\n",
    "    title_name.append(i.text)\n"
   ]
  },
  {
   "cell_type": "code",
   "execution_count": 27,
   "id": "3c67536b",
   "metadata": {},
   "outputs": [],
   "source": [
    "#Extract the price details\n",
    "price_tags=driver.find_elements_by_xpath('//div[@class=\"a-row a-size-base a-color-base\"]')\n",
    "for i in price_tags:\n",
    "    price_list.append(i.text)"
   ]
  },
  {
   "cell_type": "code",
   "execution_count": 26,
   "id": "88074a07",
   "metadata": {},
   "outputs": [],
   "source": [
    "#Extract the ratings\n",
    "rating_tags=driver.find_elements_by_xpath('//i[@class=\"a-icon a-icon-star-small a-star-small-4 aok-align-bottom\"]')\n",
    "for i in rating_tags:\n",
    "   # title=i.text\n",
    "    ratings.append(i.text)"
   ]
  },
  {
   "cell_type": "code",
   "execution_count": 28,
   "id": "f465a1c3",
   "metadata": {},
   "outputs": [
    {
     "data": {
      "text/html": [
       "<div>\n",
       "<style scoped>\n",
       "    .dataframe tbody tr th:only-of-type {\n",
       "        vertical-align: middle;\n",
       "    }\n",
       "\n",
       "    .dataframe tbody tr th {\n",
       "        vertical-align: top;\n",
       "    }\n",
       "\n",
       "    .dataframe thead th {\n",
       "        text-align: right;\n",
       "    }\n",
       "</style>\n",
       "<table border=\"1\" class=\"dataframe\">\n",
       "  <thead>\n",
       "    <tr style=\"text-align: right;\">\n",
       "      <th></th>\n",
       "      <th>Title</th>\n",
       "      <th>Price</th>\n",
       "      <th>Ratings</th>\n",
       "    </tr>\n",
       "  </thead>\n",
       "  <tbody>\n",
       "    <tr>\n",
       "      <th>0</th>\n",
       "      <td>Lenovo IdeaPad 1 Intel Celeron N4020 11.6'' HD...</td>\n",
       "      <td>₹23,889\\n₹34,890 (32% off)</td>\n",
       "      <td></td>\n",
       "    </tr>\n",
       "    <tr>\n",
       "      <th>1</th>\n",
       "      <td>Acer Extensa 15 Thin &amp; Light Laptop Intel Proc...</td>\n",
       "      <td>₹28,790\\n₹39,999 (28% off)</td>\n",
       "      <td></td>\n",
       "    </tr>\n",
       "    <tr>\n",
       "      <th>2</th>\n",
       "      <td>ASUS VivoBook 15 (2021), 15.6-inch (39.62 cm) ...</td>\n",
       "      <td>₹26,990\\n₹33,990 (21% off)</td>\n",
       "      <td></td>\n",
       "    </tr>\n",
       "    <tr>\n",
       "      <th>3</th>\n",
       "      <td>Lenovo IdeaPad 3 Intel Celeron N4020 14'' HD T...</td>\n",
       "      <td>₹27,553\\n₹40,490 (32% off)</td>\n",
       "      <td></td>\n",
       "    </tr>\n",
       "    <tr>\n",
       "      <th>4</th>\n",
       "      <td>HP Chromebook 14 Intel Celeron N4020-4GB SDRAM...</td>\n",
       "      <td>₹25,390\\n₹29,741 (15% off)</td>\n",
       "      <td></td>\n",
       "    </tr>\n",
       "    <tr>\n",
       "      <th>5</th>\n",
       "      <td>Lenovo IdeaPad 1 Intel Celeron N4020 11.6'' HD...</td>\n",
       "      <td>₹23,889\\n₹34,890 (32% off)</td>\n",
       "      <td></td>\n",
       "    </tr>\n",
       "    <tr>\n",
       "      <th>6</th>\n",
       "      <td>Lenovo IdeaPad 3 Chromebook Intel Celeron N402...</td>\n",
       "      <td>₹21,990\\n₹34,890 (37% off)</td>\n",
       "      <td></td>\n",
       "    </tr>\n",
       "    <tr>\n",
       "      <th>7</th>\n",
       "      <td>Lenovo IdeaPad 3 Chromebook Intel Celeron N402...</td>\n",
       "      <td>₹15,990\\n₹24,840 (36% off)</td>\n",
       "      <td></td>\n",
       "    </tr>\n",
       "    <tr>\n",
       "      <th>8</th>\n",
       "      <td>AVITA SATUS ULTIMUS S111 NU14A1INC43PN-MB 14.1...</td>\n",
       "      <td>₹21,990\\n₹29,990 (27% off)</td>\n",
       "      <td></td>\n",
       "    </tr>\n",
       "    <tr>\n",
       "      <th>9</th>\n",
       "      <td>ASUS VivoBook 14 (2021), 14-inch (35.56 cm) HD...</td>\n",
       "      <td>₹31,490\\n₹38,990 (19% off)</td>\n",
       "      <td></td>\n",
       "    </tr>\n",
       "  </tbody>\n",
       "</table>\n",
       "</div>"
      ],
      "text/plain": [
       "                                               Title  \\\n",
       "0  Lenovo IdeaPad 1 Intel Celeron N4020 11.6'' HD...   \n",
       "1  Acer Extensa 15 Thin & Light Laptop Intel Proc...   \n",
       "2  ASUS VivoBook 15 (2021), 15.6-inch (39.62 cm) ...   \n",
       "3  Lenovo IdeaPad 3 Intel Celeron N4020 14'' HD T...   \n",
       "4  HP Chromebook 14 Intel Celeron N4020-4GB SDRAM...   \n",
       "5  Lenovo IdeaPad 1 Intel Celeron N4020 11.6'' HD...   \n",
       "6  Lenovo IdeaPad 3 Chromebook Intel Celeron N402...   \n",
       "7  Lenovo IdeaPad 3 Chromebook Intel Celeron N402...   \n",
       "8  AVITA SATUS ULTIMUS S111 NU14A1INC43PN-MB 14.1...   \n",
       "9  ASUS VivoBook 14 (2021), 14-inch (35.56 cm) HD...   \n",
       "\n",
       "                        Price Ratings  \n",
       "0  ₹23,889\\n₹34,890 (32% off)          \n",
       "1  ₹28,790\\n₹39,999 (28% off)          \n",
       "2  ₹26,990\\n₹33,990 (21% off)          \n",
       "3  ₹27,553\\n₹40,490 (32% off)          \n",
       "4  ₹25,390\\n₹29,741 (15% off)          \n",
       "5  ₹23,889\\n₹34,890 (32% off)          \n",
       "6  ₹21,990\\n₹34,890 (37% off)          \n",
       "7  ₹15,990\\n₹24,840 (36% off)          \n",
       "8  ₹21,990\\n₹29,990 (27% off)          \n",
       "9  ₹31,490\\n₹38,990 (19% off)          "
      ]
     },
     "execution_count": 28,
     "metadata": {},
     "output_type": "execute_result"
    }
   ],
   "source": [
    "#Creating the Data Frame. \n",
    "#The output was suggested by the mention after raising the ticket.\n",
    "df=pd.DataFrame({'Title':title_name[:10],'Price':price_list[:10],'Ratings':ratings[:10]})\n",
    "df"
   ]
  },
  {
   "cell_type": "code",
   "execution_count": 29,
   "id": "3892bf22",
   "metadata": {},
   "outputs": [],
   "source": [
    "#Closing the automated window\n",
    "driver.close()"
   ]
  },
  {
   "cell_type": "markdown",
   "id": "43433fd0",
   "metadata": {},
   "source": [
    "# Q9: Write a python program to scrape data for first 10 job results for Data Scientist Designation in Noida\n",
    "location. You have to scrape company name, No. of days ago when job was posted, Rating of the company.\n",
    "This task will be done in following steps:\n",
    "1. First get the webpage https://www.ambitionbox.com/\n",
    "2. Click on the Job option as shown in the image\n"
   ]
  },
  {
   "cell_type": "markdown",
   "id": "ddfdcdff",
   "metadata": {},
   "source": [
    "3. After reaching to the next webpage, In place of “Search by Designations, Companies, Skills” enter\n",
    "“Data Scientist” and click on search button.\n",
    "4. You will reach to the following web page click on location and in place of “Search location” enter\n",
    "“Noida” and select location “Noida”.\n",
    "5. Then scrape the data for the first 10 jobs results you get on the above shown page.\n",
    "6. Finally create a dataframe of the scraped data"
   ]
  },
  {
   "cell_type": "code",
   "execution_count": 30,
   "id": "fd3009a7",
   "metadata": {},
   "outputs": [],
   "source": [
    "driver=webdriver.Chrome(\"chromedriver.exe\")\n",
    "time.sleep(2)"
   ]
  },
  {
   "cell_type": "code",
   "execution_count": 31,
   "id": "c9ff7e96",
   "metadata": {},
   "outputs": [],
   "source": [
    "#Opening up naukri.com website on automated chrome window\n",
    "driver.get('https://www.ambitionbox.com/')"
   ]
  },
  {
   "cell_type": "code",
   "execution_count": 32,
   "id": "550c6915",
   "metadata": {},
   "outputs": [],
   "source": [
    "#Click on the jobs category\n",
    "jobs_button=driver.find_element_by_xpath(\"/html/body/div[1]/nav/nav/a[6]\")\n",
    "jobs_button.click()"
   ]
  },
  {
   "cell_type": "code",
   "execution_count": 33,
   "id": "b09e8206",
   "metadata": {},
   "outputs": [],
   "source": [
    "#Find elements for job search bar\n",
    "search_field=driver.find_element_by_xpath('/html/body/div/div/div/div[2]/div[1]/div[1]/div/div/div/div/span/input')   #Job search bar\n",
    "search_field.send_keys(\"Data Scientist\")"
   ]
  },
  {
   "cell_type": "code",
   "execution_count": 34,
   "id": "1a5ee5af",
   "metadata": {},
   "outputs": [],
   "source": [
    "#Click on search button\n",
    "search_button=driver.find_element_by_xpath(\"/html/body/div/div/div/div[2]/div[1]/div[1]/div/div/div/button\")\n",
    "search_button.click()"
   ]
  },
  {
   "cell_type": "code",
   "execution_count": 35,
   "id": "f9f4e320",
   "metadata": {},
   "outputs": [],
   "source": [
    "#Check mark the location\n",
    "location_button=driver.find_element_by_xpath(\"/html/body/div/div/div/div[2]/div[1]/div[2]/div[1]/div/div/div/div[2]/div[1]\")\n",
    "location_button.click()"
   ]
  },
  {
   "cell_type": "code",
   "execution_count": 36,
   "id": "a1c13eae",
   "metadata": {},
   "outputs": [],
   "source": [
    "#Enter the location to search\n",
    "search_location=driver.find_element_by_xpath('/html/body/div/div/div/div[2]/div[1]/div[2]/div[1]/div/div/div/div[2]/div[2]/div/div[2]/input')\n",
    "search_location.send_keys(\"Noida\")"
   ]
  },
  {
   "cell_type": "code",
   "execution_count": 37,
   "id": "cafb9b01",
   "metadata": {},
   "outputs": [],
   "source": [
    "#Select the location from the dropdown\n",
    "radio_button=driver.find_element_by_xpath(\"/html/body/div/div/div/div[2]/div[1]/div[2]/div[1]/div/div/div/div[2]/div[2]/div/div[3]/div[1]/div[1]/div/input\")\n",
    "radio_button.click()"
   ]
  },
  {
   "cell_type": "code",
   "execution_count": 38,
   "id": "5e24fa7a",
   "metadata": {},
   "outputs": [],
   "source": [
    "#Extract the job details\n",
    "job_details=[]\n",
    "job_tags=driver.find_elements_by_xpath('//div[@class=\"info\"]')\n",
    "for i in job_tags:\n",
    "   # title=i.text\n",
    "    job_details.append(i.text)"
   ]
  },
  {
   "cell_type": "code",
   "execution_count": 39,
   "id": "738c482a",
   "metadata": {},
   "outputs": [
    {
     "data": {
      "text/html": [
       "<div>\n",
       "<style scoped>\n",
       "    .dataframe tbody tr th:only-of-type {\n",
       "        vertical-align: middle;\n",
       "    }\n",
       "\n",
       "    .dataframe tbody tr th {\n",
       "        vertical-align: top;\n",
       "    }\n",
       "\n",
       "    .dataframe thead th {\n",
       "        text-align: right;\n",
       "    }\n",
       "</style>\n",
       "<table border=\"1\" class=\"dataframe\">\n",
       "  <thead>\n",
       "    <tr style=\"text-align: right;\">\n",
       "      <th></th>\n",
       "      <th>Top 10 Data Scientist Jobs in Noida</th>\n",
       "    </tr>\n",
       "  </thead>\n",
       "  <tbody>\n",
       "    <tr>\n",
       "      <th>0</th>\n",
       "      <td>Machine Learning Engineer\\nGENPACT India Priva...</td>\n",
       "    </tr>\n",
       "    <tr>\n",
       "      <th>1</th>\n",
       "      <td>Data Scientist- AI/ML- R&amp;D\\nEXL Services.com (...</td>\n",
       "    </tr>\n",
       "    <tr>\n",
       "      <th>2</th>\n",
       "      <td>Data Scientist\\nGENPACT India Private Limited\\...</td>\n",
       "    </tr>\n",
       "    <tr>\n",
       "      <th>3</th>\n",
       "      <td>Oracle HCM BI Technical Lead/Manager (People A...</td>\n",
       "    </tr>\n",
       "    <tr>\n",
       "      <th>4</th>\n",
       "      <td>Data Scientist with SAS\\nTech Mahindra Ltd\\n3....</td>\n",
       "    </tr>\n",
       "    <tr>\n",
       "      <th>5</th>\n",
       "      <td>Hiring For Data Scientist + Python/R+ Predicti...</td>\n",
       "    </tr>\n",
       "    <tr>\n",
       "      <th>6</th>\n",
       "      <td>Data Scientist - Immediate Joiners\\nBristlecon...</td>\n",
       "    </tr>\n",
       "    <tr>\n",
       "      <th>7</th>\n",
       "      <td>Data Scientist - Machine Learning (5-14 yrs)\\n...</td>\n",
       "    </tr>\n",
       "    <tr>\n",
       "      <th>8</th>\n",
       "      <td>Data Scientist\\nAshkom Media India Private Lim...</td>\n",
       "    </tr>\n",
       "    <tr>\n",
       "      <th>9</th>\n",
       "      <td>Data Scientist- Fresher Opening - Newgen Softw...</td>\n",
       "    </tr>\n",
       "  </tbody>\n",
       "</table>\n",
       "</div>"
      ],
      "text/plain": [
       "                 Top 10 Data Scientist Jobs in Noida\n",
       "0  Machine Learning Engineer\\nGENPACT India Priva...\n",
       "1  Data Scientist- AI/ML- R&D\\nEXL Services.com (...\n",
       "2  Data Scientist\\nGENPACT India Private Limited\\...\n",
       "3  Oracle HCM BI Technical Lead/Manager (People A...\n",
       "4  Data Scientist with SAS\\nTech Mahindra Ltd\\n3....\n",
       "5  Hiring For Data Scientist + Python/R+ Predicti...\n",
       "6  Data Scientist - Immediate Joiners\\nBristlecon...\n",
       "7  Data Scientist - Machine Learning (5-14 yrs)\\n...\n",
       "8  Data Scientist\\nAshkom Media India Private Lim...\n",
       "9  Data Scientist- Fresher Opening - Newgen Softw..."
      ]
     },
     "execution_count": 39,
     "metadata": {},
     "output_type": "execute_result"
    }
   ],
   "source": [
    "#Creating the data frame\n",
    "df=pd.DataFrame({'Top 10 Data Scientist Jobs in Noida':job_details[:10]})\n",
    "df"
   ]
  },
  {
   "cell_type": "code",
   "execution_count": 40,
   "id": "624e181e",
   "metadata": {},
   "outputs": [],
   "source": [
    "#Closing the automated chrome window\n",
    "driver.close()"
   ]
  },
  {
   "cell_type": "markdown",
   "id": "8595d891",
   "metadata": {},
   "source": [
    "# Q10: Write a python program to scrape the salary data for Data Scientist designation.\n",
    "You have to scrape Company name, Number of salaries, Average salary, Minsalary, Max Salary.\n",
    "The above task will be, done as shown in the below steps:\n",
    "1. First get the webpage https://www.ambitionbox.com/\n",
    "2. Click on the salaries option as shown in the image."
   ]
  },
  {
   "cell_type": "markdown",
   "id": "cd3b1ada",
   "metadata": {},
   "source": [
    "3. After reaching to the following webpage, In place of “Search Job Profile” enters “Data Scientist” and\n",
    "then click on “Data Scientist”.\n",
    "You have to scrape the data ticked in the above image.\n",
    "4. Scrape the data for the first 10 companies. Scrape the company name, total salary record, average\n",
    "salary, minimum salary, maximum salary, experience required.\n",
    "5. Store the data in a dataframe."
   ]
  },
  {
   "cell_type": "code",
   "execution_count": 3,
   "id": "4a231a0e",
   "metadata": {},
   "outputs": [],
   "source": [
    "driver=webdriver.Chrome(\"chromedriver.exe\")\n",
    "time.sleep(2)"
   ]
  },
  {
   "cell_type": "code",
   "execution_count": 4,
   "id": "f70a7f30",
   "metadata": {},
   "outputs": [],
   "source": [
    "#Opening up naukri.com website on automated chrome window\n",
    "driver.get('https://www.ambitionbox.com/')"
   ]
  },
  {
   "cell_type": "code",
   "execution_count": 5,
   "id": "f0d4082b",
   "metadata": {},
   "outputs": [],
   "source": [
    "#Click on the Salary category\n",
    "salaries_button=driver.find_element_by_xpath(\"/html/body/div[1]/nav/nav/a[4]\")\n",
    "salaries_button.click()"
   ]
  },
  {
   "cell_type": "code",
   "execution_count": 6,
   "id": "c2785cee",
   "metadata": {},
   "outputs": [],
   "source": [
    "#Search for the designation\n",
    "search_field=driver.find_element_by_xpath('/html/body/div/div/div/div[2]/div/div/div/div[1]/span/input')   #Job search bar\n",
    "search_field.send_keys(\"Data Scientist\")"
   ]
  },
  {
   "cell_type": "code",
   "execution_count": 7,
   "id": "4249a30e",
   "metadata": {},
   "outputs": [],
   "source": [
    "#Selecting the designation from drop down\n",
    "#Mentor gave permission to manually select the desg \"Data Scientist\" from the dropdown after raising the ticket\n",
    "designation_button=driver.find_element_by_xpath('/html/body/div/div/div/div[2]/div/div/div/button/span')\n",
    "designation_button.click()"
   ]
  },
  {
   "cell_type": "code",
   "execution_count": 8,
   "id": "3b0e1a47",
   "metadata": {},
   "outputs": [],
   "source": [
    "#Declaring the variables\n",
    "company_name=[]\n",
    "salary_record=[]\n",
    "exp_details=[]\n",
    "avg_salary=[]\n",
    "min_max_salary=[]\n",
    "min_salary=[]\n",
    "max_salary=[]\n"
   ]
  },
  {
   "cell_type": "code",
   "execution_count": 9,
   "id": "c0ef0562",
   "metadata": {},
   "outputs": [],
   "source": [
    "#Extracting the data of company name\n",
    "company_tags=driver.find_elements_by_xpath('//div[@class=\"name\"]/a')\n",
    "for i in company_tags:\n",
    "    company_name.append(i.text)"
   ]
  },
  {
   "cell_type": "code",
   "execution_count": 10,
   "id": "b436f970",
   "metadata": {},
   "outputs": [],
   "source": [
    "#Extracting the salary records \n",
    "records_tags=driver.find_elements_by_xpath('//span[@data-v-7f256731]')\n",
    "for i in records_tags:\n",
    "    salary_record.append(i.text)\n",
    "salary_record[0::2]\n",
    "exp_details=salary_record[1::2]\n"
   ]
  },
  {
   "cell_type": "code",
   "execution_count": 11,
   "id": "3f9952f4",
   "metadata": {},
   "outputs": [],
   "source": [
    "#Extracting the data of avg salary \n",
    "avgsalary_tags=driver.find_elements_by_xpath('//p[@class=\"averageCtc\"]')\n",
    "for i in avgsalary_tags:\n",
    "    avg_salary.append(i.text)\n",
    "del avg_salary[:9]"
   ]
  },
  {
   "cell_type": "code",
   "execution_count": 12,
   "id": "c1e9bb18",
   "metadata": {},
   "outputs": [],
   "source": [
    "#Extracting the data of min and max salary from the scale\n",
    "min_max_tags=driver.find_elements_by_xpath('//div[@class=\"value body-medium\"]')\n",
    "for i in min_max_tags:\n",
    "    min_max_salary.append(i.text)\n",
    "del min_max_salary[:18]"
   ]
  },
  {
   "cell_type": "code",
   "execution_count": 13,
   "id": "476480d0",
   "metadata": {},
   "outputs": [],
   "source": [
    "min_salary=min_max_salary[0::2]\n",
    "max_salary=min_max_salary[1::2]\n"
   ]
  },
  {
   "cell_type": "code",
   "execution_count": 14,
   "id": "818ff429",
   "metadata": {},
   "outputs": [
    {
     "data": {
      "text/html": [
       "<div>\n",
       "<style scoped>\n",
       "    .dataframe tbody tr th:only-of-type {\n",
       "        vertical-align: middle;\n",
       "    }\n",
       "\n",
       "    .dataframe tbody tr th {\n",
       "        vertical-align: top;\n",
       "    }\n",
       "\n",
       "    .dataframe thead th {\n",
       "        text-align: right;\n",
       "    }\n",
       "</style>\n",
       "<table border=\"1\" class=\"dataframe\">\n",
       "  <thead>\n",
       "    <tr style=\"text-align: right;\">\n",
       "      <th></th>\n",
       "      <th>Compary Name</th>\n",
       "      <th>Salary Record</th>\n",
       "      <th>Experience</th>\n",
       "      <th>Average Salary</th>\n",
       "      <th>Minimum Salary</th>\n",
       "      <th>Maxium Salary</th>\n",
       "    </tr>\n",
       "  </thead>\n",
       "  <tbody>\n",
       "    <tr>\n",
       "      <th>0</th>\n",
       "      <td>TCS</td>\n",
       "      <td>(787 Salaries)</td>\n",
       "      <td>2-9 yrs exp</td>\n",
       "      <td>₹ 7.8L</td>\n",
       "      <td>₹ 4.5L</td>\n",
       "      <td>₹ 16.0L</td>\n",
       "    </tr>\n",
       "    <tr>\n",
       "      <th>1</th>\n",
       "      <td>Accenture</td>\n",
       "      <td>(471 Salaries)</td>\n",
       "      <td>2-9 yrs exp</td>\n",
       "      <td>₹ 12.6L</td>\n",
       "      <td>₹ 5.5L</td>\n",
       "      <td>₹ 23.0L</td>\n",
       "    </tr>\n",
       "    <tr>\n",
       "      <th>2</th>\n",
       "      <td>IBM</td>\n",
       "      <td>(367 Salaries)</td>\n",
       "      <td>2-11 yrs exp</td>\n",
       "      <td>₹ 13.1L</td>\n",
       "      <td>₹ 5.2L</td>\n",
       "      <td>₹ 25.0L</td>\n",
       "    </tr>\n",
       "    <tr>\n",
       "      <th>3</th>\n",
       "      <td>Cognizant</td>\n",
       "      <td>(304 Salaries)</td>\n",
       "      <td>2-10 yrs exp</td>\n",
       "      <td>₹ 9.8L</td>\n",
       "      <td>₹ 5.0L</td>\n",
       "      <td>₹ 18.0L</td>\n",
       "    </tr>\n",
       "    <tr>\n",
       "      <th>4</th>\n",
       "      <td>Capgemini</td>\n",
       "      <td>(293 Salaries)</td>\n",
       "      <td>2-8 yrs exp</td>\n",
       "      <td>₹ 8.5L</td>\n",
       "      <td>₹ 4.6L</td>\n",
       "      <td>₹ 15.0L</td>\n",
       "    </tr>\n",
       "    <tr>\n",
       "      <th>5</th>\n",
       "      <td>Infosys</td>\n",
       "      <td>(219 Salaries)</td>\n",
       "      <td>2-8 yrs exp</td>\n",
       "      <td>₹ 9.1L</td>\n",
       "      <td>₹ 4.5L</td>\n",
       "      <td>₹ 24.0L</td>\n",
       "    </tr>\n",
       "    <tr>\n",
       "      <th>6</th>\n",
       "      <td>Tech Mahindra</td>\n",
       "      <td>(217 Salaries)</td>\n",
       "      <td>2-13 yrs exp</td>\n",
       "      <td>₹ 7.8L</td>\n",
       "      <td>₹ 4.1L</td>\n",
       "      <td>₹ 16.5L</td>\n",
       "    </tr>\n",
       "    <tr>\n",
       "      <th>7</th>\n",
       "      <td>Wipro</td>\n",
       "      <td>(214 Salaries)</td>\n",
       "      <td>2-9 yrs exp</td>\n",
       "      <td>₹ 9.6L</td>\n",
       "      <td>₹ 4.5L</td>\n",
       "      <td>₹ 18.2L</td>\n",
       "    </tr>\n",
       "    <tr>\n",
       "      <th>8</th>\n",
       "      <td>Deloitte</td>\n",
       "      <td>(161 Salaries)</td>\n",
       "      <td>1-7 yrs exp</td>\n",
       "      <td>₹ 13.6L</td>\n",
       "      <td>₹ 7.0L</td>\n",
       "      <td>₹ 24.0L</td>\n",
       "    </tr>\n",
       "    <tr>\n",
       "      <th>9</th>\n",
       "      <td>Fractal Analytics</td>\n",
       "      <td>(151 Salaries)</td>\n",
       "      <td>2-6 yrs exp</td>\n",
       "      <td>₹ 15.7L</td>\n",
       "      <td>₹ 9.7L</td>\n",
       "      <td>₹ 23.0L</td>\n",
       "    </tr>\n",
       "  </tbody>\n",
       "</table>\n",
       "</div>"
      ],
      "text/plain": [
       "        Compary Name   Salary Record    Experience Average Salary  \\\n",
       "0                TCS  (787 Salaries)   2-9 yrs exp         ₹ 7.8L   \n",
       "1          Accenture  (471 Salaries)   2-9 yrs exp        ₹ 12.6L   \n",
       "2                IBM  (367 Salaries)  2-11 yrs exp        ₹ 13.1L   \n",
       "3          Cognizant  (304 Salaries)  2-10 yrs exp         ₹ 9.8L   \n",
       "4          Capgemini  (293 Salaries)   2-8 yrs exp         ₹ 8.5L   \n",
       "5            Infosys  (219 Salaries)   2-8 yrs exp         ₹ 9.1L   \n",
       "6      Tech Mahindra  (217 Salaries)  2-13 yrs exp         ₹ 7.8L   \n",
       "7              Wipro  (214 Salaries)   2-9 yrs exp         ₹ 9.6L   \n",
       "8           Deloitte  (161 Salaries)   1-7 yrs exp        ₹ 13.6L   \n",
       "9  Fractal Analytics  (151 Salaries)   2-6 yrs exp        ₹ 15.7L   \n",
       "\n",
       "  Minimum Salary Maxium Salary  \n",
       "0         ₹ 4.5L       ₹ 16.0L  \n",
       "1         ₹ 5.5L       ₹ 23.0L  \n",
       "2         ₹ 5.2L       ₹ 25.0L  \n",
       "3         ₹ 5.0L       ₹ 18.0L  \n",
       "4         ₹ 4.6L       ₹ 15.0L  \n",
       "5         ₹ 4.5L       ₹ 24.0L  \n",
       "6         ₹ 4.1L       ₹ 16.5L  \n",
       "7         ₹ 4.5L       ₹ 18.2L  \n",
       "8         ₹ 7.0L       ₹ 24.0L  \n",
       "9         ₹ 9.7L       ₹ 23.0L  "
      ]
     },
     "execution_count": 14,
     "metadata": {},
     "output_type": "execute_result"
    }
   ],
   "source": [
    "#Creating the data frame.\n",
    "df=pd.DataFrame({'Compary Name':company_name,'Salary Record':salary_record[0::2],'Experience':exp_details,\"Average Salary\":avg_salary,\"Minimum Salary\":min_salary,\"Maxium Salary\":max_salary})\n",
    "df"
   ]
  },
  {
   "cell_type": "code",
   "execution_count": 15,
   "id": "84dc1d59",
   "metadata": {},
   "outputs": [],
   "source": [
    "#Closing the automated chrome window\n",
    "driver.close()"
   ]
  },
  {
   "cell_type": "code",
   "execution_count": null,
   "id": "cbbaa4e9",
   "metadata": {},
   "outputs": [],
   "source": []
  }
 ],
 "metadata": {
  "kernelspec": {
   "display_name": "Python 3 (ipykernel)",
   "language": "python",
   "name": "python3"
  },
  "language_info": {
   "codemirror_mode": {
    "name": "ipython",
    "version": 3
   },
   "file_extension": ".py",
   "mimetype": "text/x-python",
   "name": "python",
   "nbconvert_exporter": "python",
   "pygments_lexer": "ipython3",
   "version": "3.9.7"
  }
 },
 "nbformat": 4,
 "nbformat_minor": 5
}
