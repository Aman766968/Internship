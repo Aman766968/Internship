{
 "cells": [
  {
   "cell_type": "markdown",
   "id": "8131880c",
   "metadata": {},
   "source": [
    "Q1 to Q8 have only one correct answer. Choose the correct option to answer your question.\n"
   ]
  },
  {
   "cell_type": "markdown",
   "id": "4e3f0d1a",
   "metadata": {},
   "source": [
    "1. Which of the following operators is used to calculate remainder in a division?\n",
    "\n",
    "ANS:  C) % "
   ]
  },
  {
   "cell_type": "markdown",
   "id": "593d2276",
   "metadata": {},
   "source": [
    "2. In python 2//3 is equal to?\n",
    "\n",
    "Ans: 0"
   ]
  },
  {
   "cell_type": "markdown",
   "id": "c0c0a9da",
   "metadata": {},
   "source": [
    "3. In python, 6<<2 is equal to?\n",
    "\n",
    "Ans: 24"
   ]
  },
  {
   "cell_type": "markdown",
   "id": "183d32e3",
   "metadata": {},
   "source": [
    "4. In python, 6&2 will give which of the following as output?\n",
    "\n",
    "Ans: 2"
   ]
  },
  {
   "cell_type": "markdown",
   "id": "d2a31139",
   "metadata": {},
   "source": [
    "5. In python, 6|2 will give which of the following as output?\n",
    "\n",
    "Ans: 6"
   ]
  },
  {
   "cell_type": "markdown",
   "id": "207650a1",
   "metadata": {},
   "source": [
    "6. What does the finally keyword denotes in python?\n",
    "\n",
    "Ans: C) the finally block will be executed no matter if the try block raises an error or not.\n"
   ]
  },
  {
   "cell_type": "markdown",
   "id": "23c28a91",
   "metadata": {},
   "source": [
    "7. What does raise keyword is used for in python?\n",
    "\n",
    "Ans: A) It is used to raise an exception."
   ]
  },
  {
   "cell_type": "markdown",
   "id": "50a999a7",
   "metadata": {},
   "source": [
    "7. What does raise keyword is used for in python?\n",
    "\n",
    "Ans: C) in defining a generator"
   ]
  },
  {
   "cell_type": "markdown",
   "id": "369f7ff9",
   "metadata": {},
   "source": [
    "Q9 and Q10 have multiple correct answers. Choose all the correct options to answer your question.\n"
   ]
  },
  {
   "cell_type": "markdown",
   "id": "8bddf737",
   "metadata": {},
   "source": [
    "9. Which of the following are the valid variable names?\n",
    "\n",
    "Ans: A) _abc B) 1abc\n"
   ]
  },
  {
   "cell_type": "markdown",
   "id": "2603bbc2",
   "metadata": {},
   "source": [
    "10. Which of the following are the keywords in python?\n",
    "\n",
    "Ans: A) yield B) raise"
   ]
  },
  {
   "cell_type": "markdown",
   "id": "bce80e10",
   "metadata": {},
   "source": [
    "Q11 to Q15 are programming questions. Answer them in Jupyter Notebook.\n"
   ]
  },
  {
   "cell_type": "code",
   "execution_count": 21,
   "id": "0e3fcf9c",
   "metadata": {},
   "outputs": [
    {
     "name": "stdout",
     "output_type": "stream",
     "text": [
      "Enter a number to find the factorial: 5\n",
      "The factorial of 5 is 120\n"
     ]
    }
   ],
   "source": [
    "#11. Write a python program to find the factorial of a number.\n",
    "num = int(input(\"Enter a number to find the factorial: \"))     #Input from the user\n",
    "factorial = 1\n",
    "for i in range(1,num + 1):\n",
    "    factorial = factorial*i\n",
    "print(\"The factorial of\",num,\"is\",factorial)        #Printing the output\n"
   ]
  },
  {
   "cell_type": "code",
   "execution_count": 33,
   "id": "9e984e35",
   "metadata": {},
   "outputs": [
    {
     "name": "stdout",
     "output_type": "stream",
     "text": [
      "Enter any number : 8\n",
      "8 is NOT a prime number\n"
     ]
    }
   ],
   "source": [
    "#12. Write a python program to find whether a number is prime or composite.\n",
    "\n",
    "num = int(input(\"Enter any number : \"))\n",
    "if num > 1:\n",
    "    for i in range(2, num):\n",
    "        if (num % i) == 0:\n",
    "            print(num, \"is NOT a prime number\")\n",
    "            break\n",
    "    else:\n",
    "        print(num, \"is a PRIME number\")\n",
    "elif num == 0 or 1:\n",
    "    print(num, \"is a neither prime NOR composite number\")\n",
    "else:\n",
    "    print(num, \"is NOT a prime number it is a COMPOSITE number\")\n"
   ]
  },
  {
   "cell_type": "code",
   "execution_count": 43,
   "id": "d65d96cf",
   "metadata": {},
   "outputs": [
    {
     "name": "stdout",
     "output_type": "stream",
     "text": [
      "Enter the word:mom\n",
      "The string is a palindrome\n"
     ]
    }
   ],
   "source": [
    "#13. Write a python program to check whether a given string is palindrome or not.\n",
    "str=input(\"Enter the word:\")     #Enter the word to check if it is palindrome or not\n",
    "revstr=str[::-1]                 #Reverse the string using slicing\n",
    "\n",
    "if(str==revstr):              #Compare the data\n",
    "   print(\"The string is a palindrome\")\n",
    "else:\n",
    "   print(\"The string isn't a palindrome\")\n"
   ]
  },
  {
   "cell_type": "code",
   "execution_count": 54,
   "id": "0c815bb8",
   "metadata": {},
   "outputs": [
    {
     "name": "stdout",
     "output_type": "stream",
     "text": [
      "Enter the 1st side length:2.5\n",
      "Enter the 2nd side length:2.5\n",
      "Hypotenous is: 3.5355339059327378\n"
     ]
    }
   ],
   "source": [
    "#14. Write a Python program to get the third side of right-angled triangle from two given sides.\n",
    "import math\n",
    "side1=float(input(\"Enter the 1st side length:\"))\n",
    "side2=float(input(\"Enter the 2nd side length:\"))\n",
    "side3=math.sqrt((side1**2)+(side2**2))\n",
    "print(\"Hypotenous is:\", side3)"
   ]
  },
  {
   "cell_type": "code",
   "execution_count": 3,
   "id": "4cc18217",
   "metadata": {},
   "outputs": [
    {
     "name": "stdout",
     "output_type": "stream",
     "text": [
      "Count of all characters in GeeksforGeeks is :\n",
      " {'G': 2, 'e': 4, 'k': 2, 's': 2, 'f': 1, 'o': 1, 'r': 1}\n"
     ]
    }
   ],
   "source": [
    "#15. Write a python program to print the frequency of each of the characters present in a given string.\n",
    "\n",
    "# initializing string\n",
    "test_str = \"GeeksforGeeks\"\n",
    "\n",
    "all_freq = {}\n",
    "\n",
    "for i in test_str:\n",
    "\tif i in all_freq:\n",
    "\t\tall_freq[i] += 1\n",
    "\telse:\n",
    "\t\tall_freq[i] = 1\n",
    "\n",
    "# printing result\n",
    "print (\"Count of all characters in GeeksforGeeks is :\\n \"\n",
    "\t\t\t\t\t\t\t\t\t\t+ str(all_freq))\n"
   ]
  },
  {
   "cell_type": "code",
   "execution_count": null,
   "id": "4244ca2b",
   "metadata": {},
   "outputs": [],
   "source": []
  }
 ],
 "metadata": {
  "kernelspec": {
   "display_name": "Python 3 (ipykernel)",
   "language": "python",
   "name": "python3"
  },
  "language_info": {
   "codemirror_mode": {
    "name": "ipython",
    "version": 3
   },
   "file_extension": ".py",
   "mimetype": "text/x-python",
   "name": "python",
   "nbconvert_exporter": "python",
   "pygments_lexer": "ipython3",
   "version": "3.9.7"
  }
 },
 "nbformat": 4,
 "nbformat_minor": 5
}
